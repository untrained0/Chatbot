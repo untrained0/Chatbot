{
 "cells": [
  {
   "cell_type": "code",
   "execution_count": 1,
   "metadata": {},
   "outputs": [
    {
     "data": {
      "text/plain": [
       "True"
      ]
     },
     "execution_count": 1,
     "metadata": {},
     "output_type": "execute_result"
    }
   ],
   "source": [
    "import os\n",
    "from dotenv import load_dotenv\n",
    "load_dotenv()"
   ]
  },
  {
   "cell_type": "code",
   "execution_count": 2,
   "metadata": {},
   "outputs": [],
   "source": [
    "os.environ['OPENAI_API_KEY'] = os.getenv(\"OPENAI_API_KEY\")"
   ]
  },
  {
   "cell_type": "code",
   "execution_count": 3,
   "metadata": {},
   "outputs": [
    {
     "name": "stderr",
     "output_type": "stream",
     "text": [
      "c:\\Users\\soham\\Desktop\\LangChain\\RAG Pipeline\\soham\\Lib\\site-packages\\tqdm\\auto.py:21: TqdmWarning: IProgress not found. Please update jupyter and ipywidgets. See https://ipywidgets.readthedocs.io/en/stable/user_install.html\n",
      "  from .autonotebook import tqdm as notebook_tqdm\n"
     ]
    }
   ],
   "source": [
    "from llama_index.core import VectorStoreIndex, SimpleDirectoryReader\n",
    "\n",
    "documents = SimpleDirectoryReader(\"data\").load_data()"
   ]
  },
  {
   "cell_type": "code",
   "execution_count": 4,
   "metadata": {},
   "outputs": [
    {
     "data": {
      "text/plain": [
       "[Document(id_='60a711ee-bec4-4ce2-8705-9caaa930c022', embedding=None, metadata={'page_label': '1', 'file_name': 'Piyush_Resume.pdf', 'file_path': 'c:\\\\Users\\\\soham\\\\Desktop\\\\LangChain\\\\RAG Pipeline\\\\data\\\\Piyush_Resume.pdf', 'file_type': 'application/pdf', 'file_size': 233351, 'creation_date': '2024-05-21', 'last_modified_date': '2024-05-21'}, excluded_embed_metadata_keys=['file_name', 'file_type', 'file_size', 'creation_date', 'last_modified_date', 'last_accessed_date'], excluded_llm_metadata_keys=['file_name', 'file_type', 'file_size', 'creation_date', 'last_modified_date', 'last_accessed_date'], relationships={}, text='Piyush Malviya\\nWeb Developer\\nAbout Me\\nProfessional Experience\\nProjects\"As a dedicated Computer Engineering student, I am\\npassionate about leveraging technology to solve\\ncomplex problems. Proficient in programming\\nlanguages such as C,Java,JavaScript. My coursework\\nhas equipped me with knowledge in Data Structures,\\nOperating Systems, DBMS, Analysis of Algorithm etc\\nand I am adept at collaborating in team environments.\\nHard Skill\\nJava\\n C\\n Data Structures\\n  MERN Stack\\n Web development\\n Artificial Intelligence, Deep learning\\nSoft Skill\\nCommunication\\nTime Management\\nLeadership\\nAdaptability\\nEducation BackgroundMy Contact\\nmalviyapiyush744@gmail.com\\nMumbai.India 9004530891\\nhttp://www.linkedin.com/in/piyush-\\nmalviya-9a819724a\\nSnappy — Real time chat application \"Developed a real-time\\nchat application using React for the front end, Node.js and\\nExpress for the server, Socket.io for real-time communication,\\nand MongoDB for data storage. The application is responsive\\nand styled using Styled Components, providing an engaging\\nand seamless user experience. Implemented key features for\\ninstant messaging, user registration, and data persistence,\\nshowcasing proficiency in full-stack development and real-\\ntime technologies.\".PNT Robotics, Mumbai — Web Developer Intern Feb 2023 - Aug\\n2023 Worked as a Web developer Intern at PNT Robotics,\\ncontributed to the design and coding part of web application for\\ntheir upcoming project PNT Academy. Collaborating with\\nexperienced web developers to create user-friendly interfaces\\nusing MERN stack.\\nVESIT, Mumbai— Bachelor’s in Computer\\nEngineering MONTH 2021 - present CGPA\\n- 9.51/10, till Sem V \\nIDUBS Jr. College, Mumbai — HSC(12th\\nstd) MONTH 2019 - MONTH 2021 Scored\\n86% in HSC in Science stream.Participated in Syrus Hackathon held at Vivekanand\\neducation society of Information Technology.\\n Got Selected for ‘BuzzPro’ a Technical Paper contest    \\nheld at VESIT\\n. Completed Full Stack Development course of udemy\\ntaught by Angela Yu. Completed Artificial Intelligence\\ncourse of Pantech Solutions taught by Sanjay Kumar. Certifications/Awards \\nLanguages\\nEnglish\\n Hindi\\n Marathi(BasicSmart Board using Hand Gesture — Computer Vision project The \"Smart Board\\nusing Hand Gesture\" project is a fusion of computer vision and web development\\ntechnologies, aimed at providing an interactive and intuitive platform for\\ncontrolling a virtual smart board using hand gestures. Leveraging the power of\\nComputer Vision and the MERN stack (MongoDB, Express.js, React.js, Node.js), this\\nproject seamlessly integrates a user-friendly web interface with gesture\\nrecognition capabilities.Utilizing Computer Vision techniques through a Python-\\nbased model connected to the web application via Flask.Key features include\\nhand gesture-based controls for drawing, erasing, and selecting. ', start_char_idx=None, end_char_idx=None, text_template='{metadata_str}\\n\\n{content}', metadata_template='{key}: {value}', metadata_seperator='\\n'),\n",
       " Document(id_='7000d7ca-e30a-4100-bdb9-a7d73c495436', embedding=None, metadata={'page_label': '1', 'file_name': 'Soham-Kelaskar-IITB.pdf', 'file_path': 'c:\\\\Users\\\\soham\\\\Desktop\\\\LangChain\\\\RAG Pipeline\\\\data\\\\Soham-Kelaskar-IITB.pdf', 'file_type': 'application/pdf', 'file_size': 27010, 'creation_date': '2024-05-05', 'last_modified_date': '2024-05-05'}, excluded_embed_metadata_keys=['file_name', 'file_type', 'file_size', 'creation_date', 'last_modified_date', 'last_accessed_date'], excluded_llm_metadata_keys=['file_name', 'file_type', 'file_size', 'creation_date', 'last_modified_date', 'last_accessed_date'], relationships={}, text=\"Soham  Kelaskar\\nsohamkelaskar03@gmail.com +91-9156854149 Mumbai, India \\nLinkedIn \\nMay 5, 2024\\nDear Sir/Madam\\nI am writing to express my enthusiastic interest in the Trust Lab Internship program at IIT\\nBombay. As a 4th-year computer engineering student, I am excited about the opportunity to\\ncollaborate with esteemed faculty mentors and contribute to cutting-edge projects in Digital\\nTrust.\\nThe Trust Lab Internship presents a unique opportunity for me to apply my technical\\nknowledge in a practical setting. I am eager to engage in hands-on projects that will not only\\nenhance my skills but also allow me to make meaningful contributions to the field.\\nI understand the importance of hands-on experience, which is why I am particularly eager to\\nparticipate in the Trust Lab Internship. While I have developed strong skills through my\\nacademic background and personal projects, I believe that practical experience is crucial for\\nfurther enhancing these skills and gaining a deeper understanding of the field. I am confident\\nthat the internship at IIT Bombay will provide me with the practical exposure necessary to\\nexcel in my future endeavors.\\nMoreover, my genuine interest in the Trust Lab Internship program stems from its reputation\\nfor fostering innovation and pushing boundaries in the field of Digital Trust. I am inspired by\\nthe opportunity to work on projects that have the potential to make a real-world impact and\\ncontribute to the advancement of technology in the area of trust and security.\\nThank you for considering my application. I am eager to contribute to the Trust Lab's mission\\nand further my academic and professional development through the IITB Internship program.\\nPlease find my resume attached for your review. I am available at your earliest convenience for\\nan interview and can be reached at [Your Phone Number] or [Your Email Address].\\nThank you for your time and consideration.\\nSincerely,\\nSoham Kelaskar\", start_char_idx=None, end_char_idx=None, text_template='{metadata_str}\\n\\n{content}', metadata_template='{key}: {value}', metadata_seperator='\\n'),\n",
       " Document(id_='6e88c9b7-489b-4c36-960c-89cc0a329bd2', embedding=None, metadata={'page_label': '1', 'file_name': 'SOP.pdf', 'file_path': 'c:\\\\Users\\\\soham\\\\Desktop\\\\LangChain\\\\RAG Pipeline\\\\data\\\\SOP.pdf', 'file_type': 'application/pdf', 'file_size': 26651, 'creation_date': '2024-05-05', 'last_modified_date': '2024-05-05'}, excluded_embed_metadata_keys=['file_name', 'file_type', 'file_size', 'creation_date', 'last_modified_date', 'last_accessed_date'], excluded_llm_metadata_keys=['file_name', 'file_type', 'file_size', 'creation_date', 'last_modified_date', 'last_accessed_date'], relationships={}, text='Dear\\nSir/Madam\\nI\\nam\\nwriting\\nto\\nexpress\\nmy\\nenthusiastic\\ninterest\\nin\\nthe\\nTrust\\nLab\\nInternship\\nprogram,\\nas\\nadvertised.\\nAs\\na\\nstudent\\ndeeply\\npassionate\\nabout\\ndigital\\ntrust\\nand\\nits\\nimplications,\\nI\\nam\\nexcited\\nabout\\nthe\\nopportunity\\nto\\ncontribute\\nto\\ncutting-edge\\nprojects\\nand\\ncollaborate\\nwith\\nesteemed\\nfaculty\\nmentors.\\nWhat\\nparticularly\\nexcites\\nme\\nabout\\nthe\\nTrust\\nLab\\nInternship\\nis\\nthe\\nfocus\\non\\npractical\\nexperience\\nand\\ncollaboration.\\nI\\nbelieve\\nthat\\nthe\\nhands-on\\napproach\\noffered\\nby\\nthis\\nprogram\\nwill\\nnot\\nonly\\nenhance\\nmy\\nunderstanding\\nof\\ndigital\\ntrust\\nbut\\nalso\\nallow\\nme\\nto\\ncontribute\\nmeaningfully\\nto\\nongoing\\nprojects.\\nFurthermore,\\nthe\\nopportunity\\nto\\nwork\\nclosely\\nwith\\nfaculty\\nmentors\\nis\\ninvaluable.\\nI\\nam\\neager\\nto\\nlearn\\nfrom\\ntheir\\nexpertise\\nand\\ngain\\ninsights\\nthat\\nwill\\nshape\\nmy\\nfuture\\nacademic\\nand\\nprofessional\\nendeavours.\\nAdditionally,\\nthe\\nrequirement\\nfor\\nonsite\\nparticipation\\naligns\\nwith\\nmy\\nbelief\\nthat\\nface-to-face\\ninteractions\\nfoster\\ndeeper\\nlearning\\nand\\ncollaboration.\\nIn\\nconclusion,\\nI\\nam\\nconfident\\nthat\\nthe\\nTrust\\nLab\\nInternship\\nprogram\\nwill\\nprovide\\nme\\nwith\\nthe\\nnecessary\\nskills,\\nknowledge,\\nand\\nexperiences\\nto\\nfurther\\nmy\\nacademic\\nand\\nprofessional\\ngoals.\\nI\\nam\\neager\\nto\\ncontribute\\nto\\nthe\\nprogram\\nand\\nam\\nexcited\\nabout\\nthe\\nprospect\\nof\\nbeing\\npart\\nof\\nthis\\ndynamic\\nand\\ninnovative\\ncommunity.\\nThank\\nyou\\nfor\\nconsidering\\nmy\\napplication.\\nI\\nlook\\nforward\\nto\\nthe\\npossibility\\nof\\ncontributing\\nto\\nthe\\nTrust\\nLab\\nInternship\\nprogram\\nand\\nam\\nexcited\\nabout\\nthe\\nopportunity\\nto\\nlearn\\nand\\ngrow\\nalongside\\nesteemed\\nfaculty\\nand\\nfellow\\ninterns.\\nSincerely,\\nSoham\\nKelaskar', start_char_idx=None, end_char_idx=None, text_template='{metadata_str}\\n\\n{content}', metadata_template='{key}: {value}', metadata_seperator='\\n')]"
      ]
     },
     "execution_count": 4,
     "metadata": {},
     "output_type": "execute_result"
    }
   ],
   "source": [
    "documents"
   ]
  },
  {
   "cell_type": "code",
   "execution_count": 5,
   "metadata": {},
   "outputs": [
    {
     "name": "stderr",
     "output_type": "stream",
     "text": [
      "Parsing nodes: 100%|██████████| 3/3 [00:00<00:00, 499.68it/s]\n",
      "Generating embeddings: 100%|██████████| 3/3 [00:02<00:00,  1.32it/s]\n"
     ]
    }
   ],
   "source": [
    "index = VectorStoreIndex.from_documents(documents, show_progress=True)"
   ]
  },
  {
   "cell_type": "code",
   "execution_count": 6,
   "metadata": {},
   "outputs": [
    {
     "data": {
      "text/plain": [
       "<llama_index.core.indices.vector_store.base.VectorStoreIndex at 0x19f4d999c40>"
      ]
     },
     "execution_count": 6,
     "metadata": {},
     "output_type": "execute_result"
    }
   ],
   "source": [
    "index"
   ]
  },
  {
   "cell_type": "code",
   "execution_count": 7,
   "metadata": {},
   "outputs": [],
   "source": [
    "query_engine = index.as_query_engine()"
   ]
  },
  {
   "cell_type": "code",
   "execution_count": 7,
   "metadata": {},
   "outputs": [],
   "source": [
    "from llama_index.core.retrievers import VectorIndexRetriever\n",
    "from llama_index.core.indices.postprocessor import SimilarityPostprocessor\n",
    "from llama_index.core.query_engine import RetrieverQueryEngine\n",
    "\n",
    "retriever = VectorIndexRetriever(index=index, similarity_top_k=4)\n",
    "postprocessor = SimilarityPostprocessor(similarity_cutoff=0.75)\n",
    "\n",
    "query_engine = RetrieverQueryEngine(\n",
    "    retriever=retriever,\n",
    "    node_postprocessors=[postprocessor],\n",
    ")"
   ]
  },
  {
   "cell_type": "code",
   "execution_count": 12,
   "metadata": {},
   "outputs": [],
   "source": [
    "response = query_engine.query(\"What technical skills does Piyush Malviya possesses?\")"
   ]
  },
  {
   "cell_type": "code",
   "execution_count": 13,
   "metadata": {},
   "outputs": [
    {
     "name": "stdout",
     "output_type": "stream",
     "text": [
      "Final Response: Piyush Malviya possesses technical skills such as\n",
      "Java, C, Data Structures, MERN Stack, Web development, Artificial\n",
      "Intelligence, and Deep learning.\n",
      "______________________________________________________________________\n",
      "Source Node 1/2\n",
      "Node ID: be0e8f85-1934-4ce1-96af-35db1a7c049d\n",
      "Similarity: 0.8661754514605432\n",
      "Text: Piyush Malviya Web Developer About Me Professional Experience\n",
      "Projects\"As a dedicated Computer Engineering student, I am passionate\n",
      "about leveraging technology to solve complex problems. Proficient in\n",
      "programming languages such as C,Java,JavaScript. My coursework has\n",
      "equipped me with knowledge in Data Structures, Operating Systems,\n",
      "DBMS, Analysi...\n",
      "______________________________________________________________________\n",
      "Source Node 2/2\n",
      "Node ID: 3315b476-57da-4e27-be29-c86b508a7af8\n",
      "Similarity: 0.7652955483003744\n",
      "Text: Soham  Kelaskar sohamkelaskar03@gmail.com +91-9156854149 Mumbai,\n",
      "India  LinkedIn  May 5, 2024 Dear Sir/Madam I am writing to express my\n",
      "enthusiastic interest in the Trust Lab Internship program at IIT\n",
      "Bombay. As a 4th-year computer engineering student, I am excited about\n",
      "the opportunity to collaborate with esteemed faculty mentors and\n",
      "contribute...\n"
     ]
    }
   ],
   "source": [
    "from llama_index.core.response.pprint_utils import pprint_response\n",
    "pprint_response(response, show_source=True)\n",
    "# print(response)"
   ]
  },
  {
   "cell_type": "code",
   "execution_count": null,
   "metadata": {},
   "outputs": [],
   "source": []
  }
 ],
 "metadata": {
  "kernelspec": {
   "display_name": "Python 3",
   "language": "python",
   "name": "python3"
  },
  "language_info": {
   "codemirror_mode": {
    "name": "ipython",
    "version": 3
   },
   "file_extension": ".py",
   "mimetype": "text/x-python",
   "name": "python",
   "nbconvert_exporter": "python",
   "pygments_lexer": "ipython3",
   "version": "3.12.2"
  }
 },
 "nbformat": 4,
 "nbformat_minor": 2
}
