{
 "cells": [
  {
   "cell_type": "markdown",
   "metadata": {},
   "source": [
    "# Using OpenAI"
   ]
  },
  {
   "cell_type": "code",
   "execution_count": 1,
   "metadata": {},
   "outputs": [
    {
     "data": {
      "text/plain": [
       "True"
      ]
     },
     "execution_count": 1,
     "metadata": {},
     "output_type": "execute_result"
    }
   ],
   "source": [
    "import os\n",
    "from dotenv import load_dotenv\n",
    "load_dotenv()"
   ]
  },
  {
   "cell_type": "code",
   "execution_count": 2,
   "metadata": {},
   "outputs": [],
   "source": [
    "os.environ['OPENAI_API_KEY'] = os.getenv(\"OPENAI_API_KEY\")"
   ]
  },
  {
   "cell_type": "code",
   "execution_count": 3,
   "metadata": {},
   "outputs": [
    {
     "name": "stderr",
     "output_type": "stream",
     "text": [
      "c:\\Users\\soham\\Desktop\\LangChain\\RAG Pipeline\\soham\\Lib\\site-packages\\tqdm\\auto.py:21: TqdmWarning: IProgress not found. Please update jupyter and ipywidgets. See https://ipywidgets.readthedocs.io/en/stable/user_install.html\n",
      "  from .autonotebook import tqdm as notebook_tqdm\n"
     ]
    }
   ],
   "source": [
    "from llama_index.core import VectorStoreIndex, SimpleDirectoryReader\n",
    "\n",
    "documents = SimpleDirectoryReader(\"data\").load_data()"
   ]
  },
  {
   "cell_type": "code",
   "execution_count": 4,
   "metadata": {},
   "outputs": [
    {
     "data": {
      "text/plain": [
       "[Document(id_='0a6ae125-aed9-4ba3-893c-8c287955301c', embedding=None, metadata={'page_label': '1', 'file_name': 'Xangars.pdf', 'file_path': 'c:\\\\Users\\\\soham\\\\Desktop\\\\LangChain\\\\RAG Pipeline\\\\data\\\\Xangars.pdf', 'file_type': 'application/pdf', 'file_size': 81884, 'creation_date': '2024-05-24', 'last_modified_date': '2024-05-24'}, excluded_embed_metadata_keys=['file_name', 'file_type', 'file_size', 'creation_date', 'last_modified_date', 'last_accessed_date'], excluded_llm_metadata_keys=['file_name', 'file_type', 'file_size', 'creation_date', 'last_modified_date', 'last_accessed_date'], relationships={}, text='Home\\nCaution:\\nXangars\\nInfratech\\nSolutions\\nPvt.\\nLtd.\\nis\\nthe\\nonly\\nXangars™.\\nDo\\nnot\\nmistake\\nfraudulent\\nimitation\\ncompanies\\noffering\\nemployment\\nand\\nservices\\nusing\\nthe\\nXangars™\\nname.\\nNavigation\\n●\\nHome\\n●\\nApply\\nNow\\n●\\nWork@Xangars\\n●\\nLife@Xangars\\n●\\nAbout\\n●\\nWho\\nWe\\nAre\\n●\\nOur\\nClients\\n●\\nLocations\\n●\\nTechnology\\n●\\nInsure\\nTech\\n●\\nContact\\nUs\\nWhy\\nWork\\nat\\nXangars?\\nTraining,\\nMentoring,\\nand\\nSupport\\nWe\\ninvest\\nin\\nyour\\ncareer\\ndevelopment\\nwhether\\nyou’re\\nan\\nintern\\nor\\nindustry\\nveteran.\\nTo\\nmake\\nyou\\nsuccessful,\\nwe\\noffer:\\n●\\nIn-Depth\\nTraining:\\n●\\nTechnical\\nand\\nbusiness\\nreadiness\\ntraining\\nfrom\\nour\\nleadership\\nand\\noutside\\nexperts.\\n●\\nMentorship:\\n●\\nLive\\nproject\\nmentorship\\nfrom\\nexperienced\\nseniors.\\n●\\nHelp\\nDesk:\\n●\\nAn\\ninternal\\ndeveloper\\nhelp\\ndesk\\nto\\nguide\\nyou\\nthrough\\ntechnical\\nand\\nbusiness\\nchallenges.\\n\"Xangars\\noffers\\nin\\nitself\\na\\nvery\\ngreat\\nlearning\\nenvironment\\nto\\nevery\\nemployee,\\nwhich\\nkeeps\\nthe\\nfire\\nof\\nlearning\\nand\\ngrowing\\nalive.\"\\n●\\nTanvi\\nSharma,\\n●\\nHR\\nGeneralist\\nat\\nXangars\\n(Delhi\\nUniversity,\\nBA\\n\\'21)\\nInnovative\\nProducts\\nand\\nClient\\nExposure\\nAt\\nXangars,\\nyou’ll\\nbe\\nbuilding\\nthe\\nfuture.\\nWe’ve\\ndeveloped\\nand\\ncontinue\\nto\\nexpand\\nour\\nproduct\\nsuite\\nfocused\\non\\ncutting-edge\\ntechnologies\\nsuch\\nas:\\n●\\nInsurance\\nTech\\n●\\nBlockchain', start_char_idx=None, end_char_idx=None, text_template='{metadata_str}\\n\\n{content}', metadata_template='{key}: {value}', metadata_seperator='\\n'),\n",
       " Document(id_='83e65f17-cfee-4e21-89d1-e1ebe1396b8a', embedding=None, metadata={'page_label': '2', 'file_name': 'Xangars.pdf', 'file_path': 'c:\\\\Users\\\\soham\\\\Desktop\\\\LangChain\\\\RAG Pipeline\\\\data\\\\Xangars.pdf', 'file_type': 'application/pdf', 'file_size': 81884, 'creation_date': '2024-05-24', 'last_modified_date': '2024-05-24'}, excluded_embed_metadata_keys=['file_name', 'file_type', 'file_size', 'creation_date', 'last_modified_date', 'last_accessed_date'], excluded_llm_metadata_keys=['file_name', 'file_type', 'file_size', 'creation_date', 'last_modified_date', 'last_accessed_date'], relationships={}, text='●\\nIoT\\nEven\\ninterns\\nand\\nfreshers\\nget\\nto\\nwork\\non\\nlive\\nprojects\\nwith\\nindustry-leading\\nclients\\nin\\nthese\\nbooming\\nfields.\\n\"I\\nlearned\\nJava,\\nSpring\\nBoot,\\nPostman,\\nSonarqube,\\nGit,\\netc.\\nApart\\nfrom\\nthese,\\nI\\ngained\\na\\nlot\\nof\\nindustry\\nknowledge\\nincluding\\nnew\\ntechnologies,\\ncollaboration\\nwith\\nclients,\\nand\\nbest\\ncoding\\npractices.\"\\n●\\nAhmed\\nRaza\\nKhan,\\n●\\nJava\\nDeveloper\\nat\\nXangars\\n(Mumbai\\nUniversity,\\nBS\\nIT\\n‘21)\\nGlobal\\nOpportunities\\nXangars’\\nreach\\nand\\nteam\\nalready\\nspan\\nmultiple\\ncountries\\nand\\nare\\nrapidly\\nspreading\\nacross\\nthe\\nglobe.\\nWe\\noffer\\nrelocation\\nopportunities\\nfor\\nour\\nhighest-performing\\nteam\\nmembers\\nlooking\\nto\\nlevel\\nup\\ntheir\\ncareers\\nabroad.\\nSocial\\nNetworks\\nOur\\nContacts\\n●\\nEmail:\\ninfo@xangarsindia.com\\n●\\nAddress:\\nH\\n216,\\n2nd\\nFloor,\\nTower\\nNo.\\n04\\nInternational\\nInfotech\\nPark,\\nAbove\\nVashi\\nRailway\\nStation,\\nNavi\\nMumbai\\n400703.\\n●\\nPhone:\\n+91-22-6837-1000\\nXangars\\nis\\na\\nglobal\\nIT\\nsolutions\\nprovider\\nleading\\nthe\\noffshoring\\nrevolution\\nwith\\nits\\ncutting-edge\\nservices\\nthat\\nprovide\\nsupport\\nand\\nimpetus\\nto\\nemerging\\nand\\nestablished\\nbusinesses\\nin\\nthe\\nareas\\nof\\nIT\\nconsulting,\\nproduct\\nengineering,\\nsocial\\nnetworking,\\ncustom\\nsoftware\\ndevelopment,\\napplication\\nintegration,\\nand\\nmaintenance.\\nXangars\\n©\\n2024.\\nAll\\nrights\\nreserved.\\nTechnologies\\nAnd\\nTools\\nWe\\nUse\\n●\\nMicrosoft:\\nAs\\na\\nMicrosoft\\nsolutions\\nprovider,\\nXangars\\ndelivers\\nsecure,\\nhigh-voltage\\nbusiness\\napplications\\nfor\\nits\\nclients.\\nWe\\nspecialize\\nin:\\n●\\nMicrosoft-based\\nbusiness\\nintelligence\\n●\\nEnterprise\\ndata\\nmanagement\\n●\\nInfrastructure\\noptimization\\n●\\nPortals\\nand\\ncollaboration\\n●\\nBusiness\\nprocess\\nautomation\\nand\\nimprovement\\n●\\nCustom\\napplication\\ndevelopment\\n●\\nSystems\\nintegration\\n●\\nMobile\\nDevelopment:\\nAs\\none\\nof\\nthe\\nleading\\nmobile\\napp\\ndevelopment\\ncompanies,\\nwe\\noffer\\nthe\\nbest\\niPhone\\nand\\nAndroid\\napp\\ndevelopment\\nusing\\nthe\\nfollowing\\ntools.', start_char_idx=None, end_char_idx=None, text_template='{metadata_str}\\n\\n{content}', metadata_template='{key}: {value}', metadata_seperator='\\n'),\n",
       " Document(id_='d23f9636-433f-4dbf-93b5-697bb160e993', embedding=None, metadata={'page_label': '3', 'file_name': 'Xangars.pdf', 'file_path': 'c:\\\\Users\\\\soham\\\\Desktop\\\\LangChain\\\\RAG Pipeline\\\\data\\\\Xangars.pdf', 'file_type': 'application/pdf', 'file_size': 81884, 'creation_date': '2024-05-24', 'last_modified_date': '2024-05-24'}, excluded_embed_metadata_keys=['file_name', 'file_type', 'file_size', 'creation_date', 'last_modified_date', 'last_accessed_date'], excluded_llm_metadata_keys=['file_name', 'file_type', 'file_size', 'creation_date', 'last_modified_date', 'last_accessed_date'], relationships={}, text=\"●\\nPHP\\nWeb\\nDevelopment:\\nAs\\none\\nof\\nthe\\nleading\\nPHP\\nweb\\ndevelopment\\ncompanies,\\nwe\\noffer\\nthe\\nbest\\nweb\\ndevelopment\\nusing\\nthe\\nfollowing\\nopen-source\\ntools\\nand\\ntechnologies.\\n●\\nJAVA\\nWeb\\nDevelopment:\\nJava\\nweb\\nprogramming\\nis\\ncurrently\\none\\nof\\nthe\\nmost\\npopular\\nprogramming\\nlanguages\\nfor\\ndeveloping\\nfast,\\nsecure,\\nand\\nengaging\\napplications.\\nJava\\nweb\\ndevelopment\\nhas\\nbeen\\ntested,\\nrefined,\\nextended,\\nand\\nproven\\nby\\na\\ndedicated\\ncommunity\\nof\\nover\\n6.5\\nmillion\\ndevelopers,\\nmaking\\nit\\nthe\\nlargest\\nand\\nmost\\nactive\\non\\nthe\\nplanet.\\nAs\\none\\nof\\nthe\\nleading\\nJAVA\\ndevelopment\\ncompanies,\\nwe\\noffer\\nthe\\nbest\\nweb\\ndevelopment\\nusing\\nthe\\nlatest\\nJava\\ntechnologies.\\nDatabases:\\nProcess\\nWe\\nFollow\\n1.\\nRequirement\\nAnalysis:\\n●\\nRequirement\\ngathering\\nand\\nanalysis\\nis\\nthe\\nfirst\\nand\\nimportant\\npart\\nof\\nour\\napp\\ndevelopment\\nprocess.\\n2.\\nUI/UX\\nDesign:\\n●\\nWe\\ncreate\\neye-catching\\ndesigns\\nusing\\nthe\\nlatest\\ndesign\\ntools.\\n3.\\nPrototype:\\n●\\nAfter\\ndesigning,\\nthe\\nprototype\\nof\\nyour\\napp\\ngets\\nready\\nand\\nis\\nsent\\nfor\\ndevelopment.\\n4.\\nApp\\nDevelopment:\\n●\\nDevelopment\\nstarts\\non\\nthe\\npreferable\\nplatforms\\nwith\\ncomplete\\ntransparency.\\n5.\\nQA\\n&\\nTesting:\\n●\\nWe\\ndo\\nnot\\ncompromise\\non\\nquality,\\nensuring\\nyou\\nget\\na\\n100%\\nbug-free\\napp.\\n6.\\nDeployment:\\n●\\nYour\\napp\\nis\\nready\\nto\\nappear\\non\\nthe\\nApp\\nStore\\nor\\nPlay\\nStore\\nat\\nthis\\nstage\\nof\\ndevelopment.\\n●\\nWho\\nXangars\\nAre\\nXangars\\nis\\na\\nglobal\\nIT\\nsolutions\\nprovider\\nleading\\nthe\\noffshoring\\nrevolution\\nwith\\nits\\ncutting-edge\\nservices\\nthat\\nprovide\\nsupport\\nand\\nimpetus\\nto\\nemerging\\nand\\nestablished\\nbusinesses\\nin\\nthe\\nareas\\nof\\nIT\\nconsulting,\\nproduct\\nengineering,\\nsocial\\nnetworking,\\ncustom\\nsoftware\\ndevelopment,\\napplication\\nintegration,\\nand\\nmaintenance.\\nWith\\nits\\nsignature\\ninnovative\\napproach\\nto\\ntechnology\\nsolutions,\\nXangars\\nhas\\neffectively\\nleveraged\\nmarket\\npresence\\nand\\nprofitability\\nfor\\nclients\\nfrom\\ndiverse\\nbackgrounds,\\nincluding\\nentertainment\\nhouses,\\neducational\\ninstitutions,\\nhealthcare\\nindustries,\\nfinancial\\norganizations,\\ntravel\\ncompanies,\\nand\\nregional\\ncommunities.\\nXangar’s\\nApproach\\nOur\\naim\\nis\\nto\\nmake\\nit\\nsimple:\\nto\\ncreate\\napps\\nthat\\ntouch\\npeople's\\nlives.\\nAs\\na\\ncustomer-friendly\\ncompany,\\nwe\\nagree\\nto\\nkeep\\neverything\\nsimple\\nand\\ntransparent.\\nWe\\napply\\nstrategic\\nthinking,\", start_char_idx=None, end_char_idx=None, text_template='{metadata_str}\\n\\n{content}', metadata_template='{key}: {value}', metadata_seperator='\\n'),\n",
       " Document(id_='7101eae2-43e4-42f1-9aa5-6838c2c58c72', embedding=None, metadata={'page_label': '4', 'file_name': 'Xangars.pdf', 'file_path': 'c:\\\\Users\\\\soham\\\\Desktop\\\\LangChain\\\\RAG Pipeline\\\\data\\\\Xangars.pdf', 'file_type': 'application/pdf', 'file_size': 81884, 'creation_date': '2024-05-24', 'last_modified_date': '2024-05-24'}, excluded_embed_metadata_keys=['file_name', 'file_type', 'file_size', 'creation_date', 'last_modified_date', 'last_accessed_date'], excluded_llm_metadata_keys=['file_name', 'file_type', 'file_size', 'creation_date', 'last_modified_date', 'last_accessed_date'], relationships={}, text='design\\ninsight,\\nand\\npracticality\\nto\\neach\\nof\\nour\\nprojects\\nwith\\nthe\\ngoal\\nof\\ndelivering\\nsuccess\\nfrom\\nboth\\ndesign\\nand\\nimplementation.\\nWhat\\nXangars\\nDo\\nXangars\\nhas\\nestablished\\nitself\\nas\\na\\nsignificant\\ncontributor\\nto\\nthe\\nIT\\nrevolution\\nwith\\nan\\nexhaustive\\nportfolio\\nbuilt\\nupon\\nexcellence\\nin\\nthe\\nfield\\nof\\nIT\\nServices\\nand\\nIT\\nConsulting.\\nWith\\na\\nstrong\\nbackground\\nand\\nexperience,\\nXangars\\nhas\\nconstantly\\nexplored\\nemerging\\ntechnological\\navenues,\\npioneering\\nbreakthroughs\\nthat\\nresult\\nin\\nclient\\nsatisfaction\\nand\\nsuccess.\\nPlacing\\nutmost\\nemphasis\\non\\nclient\\nsatisfaction\\nas\\nits\\nhighest\\nideal,\\nXangars\\nhas\\nevolved\\nas\\nthe\\npreferred\\ntechnology\\npartner\\nto\\nFortune\\n2000\\nconglomerates\\nworldwide\\nthrough\\nrepeated\\nexcellence\\nin\\nproviding\\nscalable\\nsolutions\\nfor\\ndiverse\\nbusiness\\nprocesses.\\nXangar’s\\nVision\\nOur\\nvision\\nis\\nto\\nmake\\nXangars\\na\\none-stop\\nglobal\\ndestination\\nfor\\nall\\nyour\\nIT\\nsolutions\\nthat\\ndelivers\\nwith\\nexcellence,\\navoiding\\ncommon\\ndevelopment\\nerrors.\\nXangar’s\\nMission\\nWe\\nprovide\\ncost-effective\\nsolutions\\nto\\nour\\nclients\\nwithin\\nstipulated\\ntimelines\\nwithout\\ncompromising\\non\\nquality.\\nValues\\n●\\nAffordable\\n●\\nClient\\nRelationship\\n●\\nCommitment\\nto\\nQuality\\n●\\nInnovation\\n●\\nSharp\\nFocus\\n●\\nWarranty\\nand\\nSupport\\nSome\\nof\\nXangar’s\\nClients\\nAditya\\nBirla\\nAuchan\\nHDFC\\nLife\\nHowden\\nICICI\\nBank\\nSony\\nMusic\\nPrudential\\nStar\\nTATA\\nAIA\\nlife', start_char_idx=None, end_char_idx=None, text_template='{metadata_str}\\n\\n{content}', metadata_template='{key}: {value}', metadata_seperator='\\n'),\n",
       " Document(id_='da84a56c-0775-465f-9dea-41eab290bf4e', embedding=None, metadata={'page_label': '5', 'file_name': 'Xangars.pdf', 'file_path': 'c:\\\\Users\\\\soham\\\\Desktop\\\\LangChain\\\\RAG Pipeline\\\\data\\\\Xangars.pdf', 'file_type': 'application/pdf', 'file_size': 81884, 'creation_date': '2024-05-24', 'last_modified_date': '2024-05-24'}, excluded_embed_metadata_keys=['file_name', 'file_type', 'file_size', 'creation_date', 'last_modified_date', 'last_accessed_date'], excluded_llm_metadata_keys=['file_name', 'file_type', 'file_size', 'creation_date', 'last_modified_date', 'last_accessed_date'], relationships={}, text='Future\\ngroup\\nElaraCapital\\nXangar’s\\nAwards\\nMicrosoft\\nGold\\npartner\\nAmazon\\nweb\\nservices\\nPartner\\nnetwork(Advanced\\nConsulting\\nPartner)\\nNASSCOM\\nMember\\nIntel\\nIoT\\nSolution\\nAlliance\\nACQUIA\\nPartner\\nOur\\nLocations\\nHead\\nOffice:\\nMalaysia\\n39-02\\n(East\\nWing),\\nQ\\nSentral\\n2A,\\nJalan\\nStesen\\nSentral\\n2\\n50470\\nKuala\\nLumpur,\\nMalaysia\\nIndia\\nXangars\\nInfratech\\nSolutions\\nPvt.\\nLtd.\\nH\\n216,\\n2nd\\nFloor,\\nTower\\nNo.\\n04,\\nInternational\\nInfotech\\nPark,\\nAbove\\nVashi\\nRailway\\nStation,\\nNavi\\nMumbai,\\nMaharashtra\\n-\\n40070\\nSocial\\nNetworks\\nInstagram\\n:\\nhttps://www.instagram.com/xangars_infra/\\nLinkedIn\\n:\\nhttps://www.linkedin.com/company/xangars/\\nX\\n:\\nhttps://x.com/xangars\\nFacebook\\n:\\nhttps://www.facebook.com/XangarsGroup/\\nOur\\nContacts\\n●\\nEmail:\\ninfo@xangarsindia.com\\n●\\nAddress:\\nH\\n216,\\n2nd\\nFloor,\\nTower\\nNo.\\n04\\nInternational\\nInfotech\\nPark,\\nAbove\\nVashi\\nRailway\\nStation,\\nNavi\\nMumbai\\n400703\\n●\\nPhone:\\n+91-22-6837-1000\\nXangars\\nis\\na\\nglobal\\nIT\\nsolutions\\nprovider\\nleading\\nthe\\noffshoring\\nrevolution\\nwith\\nits\\ncutting-edge\\nservices\\nthat\\nprovide\\nsupport\\nand\\nimpetus\\nto\\nemerging\\nand\\nestablished', start_char_idx=None, end_char_idx=None, text_template='{metadata_str}\\n\\n{content}', metadata_template='{key}: {value}', metadata_seperator='\\n'),\n",
       " Document(id_='5bfd11fa-c0bd-4dfa-b5a3-ea0f869e8ca3', embedding=None, metadata={'page_label': '6', 'file_name': 'Xangars.pdf', 'file_path': 'c:\\\\Users\\\\soham\\\\Desktop\\\\LangChain\\\\RAG Pipeline\\\\data\\\\Xangars.pdf', 'file_type': 'application/pdf', 'file_size': 81884, 'creation_date': '2024-05-24', 'last_modified_date': '2024-05-24'}, excluded_embed_metadata_keys=['file_name', 'file_type', 'file_size', 'creation_date', 'last_modified_date', 'last_accessed_date'], excluded_llm_metadata_keys=['file_name', 'file_type', 'file_size', 'creation_date', 'last_modified_date', 'last_accessed_date'], relationships={}, text='businesses\\nin\\nthe\\nareas\\nof\\nIT\\nconsulting,\\nproduct\\nengineering,\\nsocial\\nnetworking,\\ncustom\\nsoftware\\ndevelopment,\\napplication\\nintegration,\\nand\\nmaintenance.\\nXangars\\n©\\n2024.\\nAll\\nrights\\nreserved.\\nXangars\\nInsuretech\\nHome\\nWelcome\\nto\\nXangars\\nInsuretech,\\nwhere\\ndigital\\ntransformation\\nin\\ninsurance\\nis\\nredefined!\\nOfferings\\nRevamping\\nyour\\nbusiness\\nwith\\ntop-of-the-class\\ninsurance\\ntechnology\\nsolutions\\nis\\npivotal\\nfor\\nits\\ngrowth\\nand\\nfor\\ncreating\\na\\nfree-flowing\\ninsurance\\necosystem.\\nOur\\ncertified\\ninsurance\\nIT\\nsolutions\\nteams\\nand\\ndomain\\nexperts\\nmake\\nthis\\ntransition\\nseamless.\\nXangars\\nexcels\\nin\\ntechnology\\nand\\nsoftware\\nengineering,\\ndelivering\\nholistic\\ninsurance\\ntechnology\\nsolutions\\nand\\nconsulting\\nservices.\\nXangars\\nInsure\\nSupporting\\nComponents\\nWe\\nprovide\\ncustomized\\ninsurance\\nIT\\nsolutions\\nto\\ninsurers,\\nproducers/intermediaries,\\ninsurtechs,\\nand\\nother\\ninsurance\\nservice\\nproviders\\noperating\\nin\\nvarious\\ngeographies.\\nOur\\nsupport\\nspans\\nfrom\\ndiscovery\\nto\\ndevelopment\\nto\\nmaintenance.\\nXangars\\nBuilder\\nOur\\nProduct\\nManagement\\nToolkit\\n(PMT),\\na\\nmodule\\nin\\nour\\nGlimpse\\nproduct,\\nlets\\nanalysts\\ncreate\\nand\\nmanage\\nLife,\\nTerm,\\nHealth,\\nand\\nAnnuity\\nproducts.\\nXangars\\nExplorer\\nXangars\\nExplorer\\nis\\nour\\nanalytical\\ntool\\nfor\\nbook-of-business-level\\n(\"what\\nif\")\\nanalysis\\nand\\nprocessing\\nactivities.\\nXangars\\nReporter\\nGain\\nfull\\nreporting\\nand\\nanalysis\\nfor\\nall\\ndata\\nstored\\nor\\nimported\\ninto\\nthe\\nXangars\\nInsure\\nPlatform.\\nXangars\\nMonitor\\nOur\\nproduction\\nsupport\\nteam\\nproactively\\nmonitors\\nall\\ncustomer\\nplatform\\nusage\\n24/7/365.\\nInsurance\\nMicroservices\\nXangars\\nenables\\ninsurtechs\\nto\\nlaunch\\ninnovative,\\nhigh-performing\\nproducts\\nwith\\na\\nmicroservice\\narchitecture.\\nWith\\ndecades\\nof\\nexperience,\\nwe\\nunderstand\\nthe\\nlimitations\\nof\\ntraditional\\nmonolithic\\npolicy\\nadministration\\nsystems.\\nOur\\nmicroservice\\nfoundation\\ncuts\\nspeed-to-market\\nin\\nhalf,\\nmaking\\nyour\\ncreativity\\na\\nreality\\nquickly.', start_char_idx=None, end_char_idx=None, text_template='{metadata_str}\\n\\n{content}', metadata_template='{key}: {value}', metadata_seperator='\\n'),\n",
       " Document(id_='a4e25772-ccde-4150-b3f2-d48f640cf2bb', embedding=None, metadata={'page_label': '7', 'file_name': 'Xangars.pdf', 'file_path': 'c:\\\\Users\\\\soham\\\\Desktop\\\\LangChain\\\\RAG Pipeline\\\\data\\\\Xangars.pdf', 'file_type': 'application/pdf', 'file_size': 81884, 'creation_date': '2024-05-24', 'last_modified_date': '2024-05-24'}, excluded_embed_metadata_keys=['file_name', 'file_type', 'file_size', 'creation_date', 'last_modified_date', 'last_accessed_date'], excluded_llm_metadata_keys=['file_name', 'file_type', 'file_size', 'creation_date', 'last_modified_date', 'last_accessed_date'], relationships={}, text='Insurance\\nSolutions\\n●\\nLife\\n&\\nHealth\\nInsurance\\n●\\nEmployee\\nBenefits\\nInsurance\\nCore\\nPAS\\nSolutions\\n●\\nGLIMPSE\\n-\\nCore\\nPAS\\n●\\nGLIMPSE\\n-\\nTerm\\nPAS\\n●\\nGLIMPSE\\n-\\nCredit\\nPAS\\n●\\nGLIMPSE\\n-\\nPension\\nPAS\\n●\\nGLIMPSE\\n-\\nMicro\\nInsurance\\nPAS\\n●\\nGLIMPSE\\n-\\nPMJJBY\\nPAS\\n●\\nGLIMPSE\\n-\\nIntelligent\\nInsurance\\nAutomation\\nCustomer\\nPortal\\n●\\nPACE\\n-\\nDigital\\nPortal\\nfor\\nAccelerated\\nCommon\\nEngagement\\n●\\nPre-business\\n&\\nClaim\\nInvestigation\\n●\\nBusiness\\nIntelligence\\nSuite\\n●\\nEmployee\\nBenefits\\n(Mobile)\\n●\\nCustomer\\nNavigator\\n(Mobile)\\n●\\nCommunicator\\n(Mobile)\\nDifferentiators\\nXangars\\noffers\\nall\\nthe\\npolicy\\nadministration\\nmicroservices\\nneeded\\nto\\nbuild\\na\\ncompletely\\ncustom,\\nscalable,\\nand\\nAPI-centric\\ninsurance\\nand\\nservice\\ncontract\\nplatform.\\nCarriers,\\nmanaging\\ngeneral\\nagencies,\\nand\\nprogram\\nadministrators\\ncan\\nnow\\ncreate\\nunique\\nAPI-centric\\ntechnology\\nplatforms\\nand\\ncustomer\\necosystems,\\nreducing\\ncosts\\nand\\ntime\\nto\\nmarket\\nwhile\\nopening\\nnew\\nrevenue\\nopportunities.\\nTechnology\\nTrends\\nin\\nInsurance\\n●\\nPredictive\\nAnalytics\\nand\\nAI\\n●\\nRobotic\\nProcess\\nAutomation\\n(RPA)\\n●\\nMicroservices\\n●\\nFully\\nConfigurable\\nPlatforms\\nCloud\\nInfrastructure\\nOur\\nplatform\\nis\\nbuilt\\nusing\\nmicroservices,\\nprivate\\nand\\npublic\\nAPIs,\\nDevOps,\\nand\\nagile\\nmethodologies.\\nWe\\nensure\\nperformance\\nwith\\nup-time\\nand\\nissue\\nresponse\\ntime\\nservice-level\\nagreements.\\nOur\\ncentralized,\\ninteroperable\\nservices\\nare\\nmore\\nsecure,\\nflexible,\\nand\\nreliable\\nthan\\non-premises\\ninfrastructure\\nor\\npublic\\ncloud\\nsolutions.', start_char_idx=None, end_char_idx=None, text_template='{metadata_str}\\n\\n{content}', metadata_template='{key}: {value}', metadata_seperator='\\n'),\n",
       " Document(id_='ba142e8a-d89c-4003-8524-2391b2879352', embedding=None, metadata={'page_label': '8', 'file_name': 'Xangars.pdf', 'file_path': 'c:\\\\Users\\\\soham\\\\Desktop\\\\LangChain\\\\RAG Pipeline\\\\data\\\\Xangars.pdf', 'file_type': 'application/pdf', 'file_size': 81884, 'creation_date': '2024-05-24', 'last_modified_date': '2024-05-24'}, excluded_embed_metadata_keys=['file_name', 'file_type', 'file_size', 'creation_date', 'last_modified_date', 'last_accessed_date'], excluded_llm_metadata_keys=['file_name', 'file_type', 'file_size', 'creation_date', 'last_modified_date', 'last_accessed_date'], relationships={}, text='Self-Service\\nToolkit\\nThe\\ntoolkit\\nused\\nby\\nBusiness\\nAnalysts\\nto\\ncreate\\nand\\nmanage\\nboth\\nPersonal\\nand\\nCommercial\\nP&C\\ninsurance\\nproducts\\nin\\nthe\\nXangars\\nPlatform.\\nAll\\nXangars\\ninsurance\\nproducts\\nare\\ndeveloped\\nand\\nmaintained\\nin\\nthe\\nXangars\\nProduct\\nManagement\\nTool\\n(PMT).\\nReporting\\n&\\nData\\nAnalysis\\nXangars\\nInsure\\nsupports\\nfull\\nreporting\\nand\\nanalysis\\nfor\\nall\\ndata\\nstored\\nor\\nimported\\ninto\\nthe\\nXangars\\nInsure\\nPlatform.\\nOur\\nreporting\\nplatform\\nincludes\\na\\npredefined\\nset\\nof\\nOLAP\\nCubes\\nfor\\nbusiness\\nusers\\nto\\ndevelop\\nand\\ngenerate\\ncustom\\nreports,\\nwith\\ncapabilities\\nfor\\npivoting\\nand\\nexporting\\ndata\\nin\\nvarious\\nformats.\\nJobs\\n&\\nCareers\\nExplore\\ncareer\\nopportunities\\nwith\\nXangars\\nand\\njoin\\nour\\nteam\\nof\\nexperts\\ndriving\\ninnovation\\nin\\nthe\\ninsurance\\nindustry.\\nContact\\nGet\\nin\\ntouch\\nwith\\nus\\nto\\nlearn\\nmore\\nabout\\nhow\\nXangars\\ncan\\ntransform\\nyour\\ninsurance\\nbusiness.\\nDigital\\nTransformation\\nRedefined!\\nXangars\\nis\\nat\\nthe\\nforefront\\nof\\ndigital\\ntransformation\\nin\\nthe\\ninsurance\\nindustry,\\nleveraging\\ncutting-edge\\ntechnology\\nto\\ndeliver\\nexceptional\\nservice\\nand\\nsolutions.\\nOur\\ncomprehensive\\nsuite\\nof\\nproducts\\nand\\nservices\\nensures\\nthat\\nyour\\ninsurance\\nbusiness\\nremains\\ncompetitive\\nand\\nfuture-proof.\\nFor\\nmore\\ninformation,\\nvisit\\nour\\nwebsite\\nor\\ncontact\\nus\\ndirectly.\\nLet\\'s\\ntransform\\nyour\\ninsurance\\nbusiness\\ntogether!\\nLife@Xangars\\nWe\\nbelieve\\nthat\\nin\\norder\\nto\\ndo\\nour\\nbest\\nwork,\\nwe\\nneed\\ntime\\nto\\nrecharge\\nand\\nhave\\nfun.\\nFlexibility\\nWe\\nrecognize\\nthe\\npriority\\nof\\nfamily\\ncommitments,\\nso\\nwe\\nalways\\ntry\\nto\\naccommodate\\neveryone’s\\nunique\\nneeds.\\nWe\\noffer\\nflexible\\nworking\\nschedules,\\nwhether\\nyou’re\\nonly\\ncomfortable\\ntraveling\\nduring\\nthe\\ndaylight\\nhours\\nor\\nneed\\nto\\npick\\nup\\nyour\\nkids\\nfrom\\nschool.\\n\"I\\'m\\nable\\nto\\nplay\\nbadminton\\nwith\\nmy\\nson\\neven\\nafter\\nwork.\\nHe\\nwaits\\nfor\\nme.\\nAll\\nof\\nthis\\nis\\npossible\\nbecause\\nof\\nXangars.\"\\n-\\nAbha\\nDikshit,\\nHead\\nof\\nDelivery\\nat\\nXangars\\n\"It’s\\nvery\\nfriendly.\\nThey\\ngive\\nus\\nflexibility.\\nThey\\nallow\\nus\\nto\\ngrow.\\nPeople\\nare\\nthere\\nto\\nhelp.\\nI\\ncan\\ncall\\nRajesh\\nany\\ntime\\nand\\ntell\\nhim\\nthese\\nare\\nmy\\nconcerns.\\nI\\nhave\\nnot\\nseen\\nany\\nsuch', start_char_idx=None, end_char_idx=None, text_template='{metadata_str}\\n\\n{content}', metadata_template='{key}: {value}', metadata_seperator='\\n'),\n",
       " Document(id_='301f915b-41f4-4acf-ae92-280a60dba267', embedding=None, metadata={'page_label': '9', 'file_name': 'Xangars.pdf', 'file_path': 'c:\\\\Users\\\\soham\\\\Desktop\\\\LangChain\\\\RAG Pipeline\\\\data\\\\Xangars.pdf', 'file_type': 'application/pdf', 'file_size': 81884, 'creation_date': '2024-05-24', 'last_modified_date': '2024-05-24'}, excluded_embed_metadata_keys=['file_name', 'file_type', 'file_size', 'creation_date', 'last_modified_date', 'last_accessed_date'], excluded_llm_metadata_keys=['file_name', 'file_type', 'file_size', 'creation_date', 'last_modified_date', 'last_accessed_date'], relationships={}, text='culture\\nin\\nany\\nother\\ncompany.\\nThey\\nwill\\nlisten!\\nThat\\nis\\na\\nreally\\ngood\\nthing.\"\\n-\\nDivya\\nKanparia,\\nXangars\\nSoftware\\nDeveloper\\nMoreover,\\nwe\\noffer\\nthe\\nfollowing\\nbenefits\\nto\\nfull-time\\nemployees:\\n●\\n24\\nleaves\\nper\\nworking\\nyear\\n●\\n6\\nmonths\\nmaternity\\nleave\\n●\\nMedical\\ninsurance\\nDiversity\\nAs\\na\\nglobal\\ncompany,\\ndiversity\\nis\\nin\\nour\\nDNA.\\nWe\\nactively\\nrecruit\\nand\\nfoster\\ninclusion\\non\\nXangars’\\nteam\\nbecause\\nwe\\nknow\\ndifferent\\nperspectives\\nmake\\nus\\nstronger.\\nWomen,\\nworking\\nmoms,\\nand\\nthose\\nreturning\\nto\\nthe\\nworkforce\\nare\\na\\nspecial\\nfocus\\nfor\\nus.\\nMoreover,\\nwomen\\nlead\\ncritical\\nparts\\nof\\nour\\nbusiness\\n—\\nour\\nHead\\nof\\nOperations,\\nHead\\nof\\nDelivery,\\nand\\nHead\\nof\\nInnovation\\nEducation\\nare\\nall\\nwomen.\\nTeam\\nBonding\\nThroughout\\nthe\\nyear,\\nwe\\ncelebrate\\nfestivals\\nand\\nhave\\nfun\\ntogether.\\nWhether\\nit’s\\ngarba\\nor\\nSecret\\nSanta,\\nwe\\nlove\\nto\\ngo\\noffline\\nand\\nplay\\nas\\na\\nteam!\\nWho\\nShould\\nApply?\\nLove\\nto\\nlearn:\\n●\\nWhether\\n.NET\\nor\\nNetworking,\\nSQL\\nor\\nSales\\n&\\nMarketing,\\nour\\nteam\\nis\\nfueled\\nby\\ncuriosity\\nto\\nlearn\\nnew\\nskills\\nto\\nbetter\\nserve\\nour\\ncustomers.\\nKnow\\nwhen\\nto\\nask\\nfor\\nhelp:\\n●\\nWe\\ndon\\'t\\nexpect\\nyou\\nto\\nwork\\nalone\\nor\\nknow\\neverything\\nall\\nthe\\ntime.\\nEveryone\\nfrom\\nour\\nCEO\\nto\\nthe\\nmost\\njunior\\nteam\\nmembers\\nare\\neager\\nto\\nhelp\\nyou\\nsucceed...\\nso\\njust\\nask.\\nObsess\\nabout\\ninnovations:\\n●\\nBuilding\\nindustry-best\\nproductions\\nand\\nsolutions\\nneeds\\nnew\\nways\\nof\\nthinking.\\nWe\\'re\\ncreative,\\nagile,\\nand\\nopen-minded.\\nDeliver\\non\\nyour\\ncommitments:\\n●\\nYou\\ndo\\nwhat\\nyou\\npromise,\\nand\\nyou\\ndo\\nit\\non\\ntime.\\nPeriod.\\nJoin\\nOur\\nTeam!\\nOpportunities:\\nOur\\nglobal\\nteam\\nis\\nrapidly\\ngrowing,\\nand\\nwe\\'re\\nhiring\\nfor\\nmany\\nnew\\nroles:\\n●\\nSoftware\\nDeveloper\\n●\\nLocation:\\nVashi,\\nNavi\\nMumbai,\\nIndia\\n●\\nApply\\nNow\\n●\\nHR\\nTeam\\n●\\nLocation:\\nVashi,\\nMumbai,\\nIndia\\n●\\nApply\\nNow\\nApplication\\nProcess\\nWe\\nmake\\napplying\\nto\\nwork\\nat\\nXangars\\nas\\nsimple\\nand\\ntransparent\\nas\\npossible.\\nApplication\\nForm:', start_char_idx=None, end_char_idx=None, text_template='{metadata_str}\\n\\n{content}', metadata_template='{key}: {value}', metadata_seperator='\\n'),\n",
       " Document(id_='6d8bbb47-bb59-44d5-afa8-ff3836b9cc70', embedding=None, metadata={'page_label': '10', 'file_name': 'Xangars.pdf', 'file_path': 'c:\\\\Users\\\\soham\\\\Desktop\\\\LangChain\\\\RAG Pipeline\\\\data\\\\Xangars.pdf', 'file_type': 'application/pdf', 'file_size': 81884, 'creation_date': '2024-05-24', 'last_modified_date': '2024-05-24'}, excluded_embed_metadata_keys=['file_name', 'file_type', 'file_size', 'creation_date', 'last_modified_date', 'last_accessed_date'], excluded_llm_metadata_keys=['file_name', 'file_type', 'file_size', 'creation_date', 'last_modified_date', 'last_accessed_date'], relationships={}, text='1.\\nIt\\nis\\nan\\nofficial\\ndocument\\nthat\\nemployers\\nwant\\ntheir\\njob\\ncandidates\\nto\\nfill\\nin\\nwhile\\napplying\\nfor\\na\\njob.\\n2.\\nSkills\\nAssessment:\\n●\\nSkill\\nassessment\\nis\\nthe\\ncomparison\\nof\\nactual\\nperformance\\nof\\na\\nskill.\\n●\\nEvaluation\\nof\\nwhether\\nthe\\nperformance\\nmeets\\nor\\nexceeds\\nthe\\nrequirements.\\nHR\\nTeam:\\n3.\\nYou\\ncan\\nexpect\\nhigh-level,\\ngeneral\\nquestions\\nabout\\nyou,\\nyour\\npast\\nwork\\nexperience,\\nand\\nyour\\nmotive\\nfor\\nlooking\\nfor\\na\\nnew\\nposition.\\nHiring\\nManager:\\n4.\\nThe\\nhiring\\nmanager\\nwill\\nconduct\\nan\\nin-depth\\nconversation\\nwith\\nthe\\napplicant\\nabout\\ntheir\\nbackground,\\nwork\\nexperience,\\nskills,\\nknowledge\\nabout\\nthe\\ncompany,\\nand\\nmore.\\nLast\\nLeg:\\nFrom\\napplication\\nto\\noffer\\nletter,\\nour\\nprocess\\nnormally\\ntakes\\n1-2\\nweeks.', start_char_idx=None, end_char_idx=None, text_template='{metadata_str}\\n\\n{content}', metadata_template='{key}: {value}', metadata_seperator='\\n')]"
      ]
     },
     "execution_count": 4,
     "metadata": {},
     "output_type": "execute_result"
    }
   ],
   "source": [
    "documents"
   ]
  },
  {
   "cell_type": "code",
   "execution_count": 5,
   "metadata": {},
   "outputs": [
    {
     "name": "stderr",
     "output_type": "stream",
     "text": [
      "Parsing nodes: 100%|██████████| 10/10 [00:00<00:00, 416.52it/s]\n",
      "Generating embeddings: 100%|██████████| 10/10 [00:01<00:00,  7.67it/s]\n"
     ]
    }
   ],
   "source": [
    "index = VectorStoreIndex.from_documents(documents, show_progress=True)"
   ]
  },
  {
   "cell_type": "code",
   "execution_count": 6,
   "metadata": {},
   "outputs": [
    {
     "data": {
      "text/plain": [
       "<llama_index.core.indices.vector_store.base.VectorStoreIndex at 0x17a9a1f6810>"
      ]
     },
     "execution_count": 6,
     "metadata": {},
     "output_type": "execute_result"
    }
   ],
   "source": [
    "index"
   ]
  },
  {
   "cell_type": "code",
   "execution_count": 7,
   "metadata": {},
   "outputs": [],
   "source": [
    "query_engine = index.as_query_engine()"
   ]
  },
  {
   "cell_type": "code",
   "execution_count": 7,
   "metadata": {},
   "outputs": [],
   "source": [
    "from llama_index.core.retrievers import VectorIndexRetriever\n",
    "from llama_index.core.indices.postprocessor import SimilarityPostprocessor\n",
    "from llama_index.core.query_engine import RetrieverQueryEngine\n",
    "\n",
    "retriever = VectorIndexRetriever(index=index, similarity_top_k=4)\n",
    "postprocessor = SimilarityPostprocessor(similarity_cutoff=0.75)\n",
    "\n",
    "query_engine = RetrieverQueryEngine(\n",
    "    retriever=retriever,\n",
    "    node_postprocessors=[postprocessor],\n",
    ")"
   ]
  },
  {
   "cell_type": "code",
   "execution_count": 22,
   "metadata": {},
   "outputs": [],
   "source": [
    "# response = query_engine.query(\"On which social media platforms we can see Xangars?, Can you also give the link for that\")\n",
    "# response = query_engine.query(\"Who is Tanvi Sharma?\")\n",
    "# response = query_engine.query(\"Why should I work at Xangars?\")\n",
    "# response = query_engine.query(\"How can I apply to Xangars?, Can you also provide link for that?\")\n",
    "response = query_engine.query(\"What are the positions we can apply in Xangars?\")\n",
    "# response = query_engine.query(\"Who are the clients of Xangars?\")\n",
    "# response = query_engine.query(\"What benefits does Xangars offer to full-time employees?\")"
   ]
  },
  {
   "cell_type": "code",
   "execution_count": 23,
   "metadata": {},
   "outputs": [
    {
     "name": "stdout",
     "output_type": "stream",
     "text": [
      "Final Response: Software Developer and HR Team positions are available\n",
      "to apply for at Xangars.\n",
      "______________________________________________________________________\n",
      "Source Node 1/4\n",
      "Node ID: fe155118-9cef-4ff6-ae8b-5809916f7aaf\n",
      "Similarity: 0.8422941093761509\n",
      "Text: culture in any other company. They will listen! That is a really\n",
      "good thing.\" - Divya Kanparia, Xangars Software Developer Moreover, we\n",
      "offer the following benefits to full-time employees: ● 24 leaves per\n",
      "working year ● 6 months maternity leave ● Medical insurance Diversity\n",
      "As a global company, diversity is in our DNA. We actively recruit and\n",
      "fo...\n",
      "______________________________________________________________________\n",
      "Source Node 2/4\n",
      "Node ID: 66db7cd5-eb7b-46ba-aba3-e302f515a8de\n",
      "Similarity: 0.8262494565502201\n",
      "Text: Home Caution: Xangars Infratech Solutions Pvt. Ltd. is the only\n",
      "Xangars™. Do not mistake fraudulent imitation companies offering\n",
      "employment and services using the Xangars™ name. Navigation ● Home ●\n",
      "Apply Now ● Work@Xangars ● Life@Xangars ● About ● Who We Are ● Our\n",
      "Clients ● Locations ● Technology ● Insure Tech ● Contact Us Why Work\n",
      "at Xangars? T...\n",
      "______________________________________________________________________\n",
      "Source Node 3/4\n",
      "Node ID: d69274c8-44e0-4333-a93b-65b0092f62cb\n",
      "Similarity: 0.8196821840647791\n",
      "Text: ● IoT Even interns and freshers get to work on live projects\n",
      "with industry-leading clients in these booming fields. \"I learned\n",
      "Java, Spring Boot, Postman, Sonarqube, Git, etc. Apart from these, I\n",
      "gained a lot of industry knowledge including new technologies,\n",
      "collaboration with clients, and best coding practices.\" ● Ahmed Raza\n",
      "Khan, ● Java Develo...\n",
      "______________________________________________________________________\n",
      "Source Node 4/4\n",
      "Node ID: 09f09333-5796-48b7-8991-f5279579eb19\n",
      "Similarity: 0.8176106628194488\n",
      "Text: Self-Service Toolkit The toolkit used by Business Analysts to\n",
      "create and manage both Personal and Commercial P&C insurance products\n",
      "in the Xangars Platform. All Xangars insurance products are developed\n",
      "and maintained in the Xangars Product Management Tool (PMT). Reporting\n",
      "& Data Analysis Xangars Insure supports full reporting and analysis\n",
      "for al...\n"
     ]
    }
   ],
   "source": [
    "from llama_index.core.response.pprint_utils import pprint_response\n",
    "pprint_response(response, show_source=True)\n",
    "# print(response)"
   ]
  },
  {
   "cell_type": "markdown",
   "metadata": {},
   "source": [
    "# Using Gemini"
   ]
  },
  {
   "cell_type": "code",
   "execution_count": 2,
   "metadata": {},
   "outputs": [],
   "source": [
    "os.environ['GEMINI_API_KEY'] = os.getenv(\"GEMINI_API_KEY\")"
   ]
  },
  {
   "cell_type": "code",
   "execution_count": 3,
   "metadata": {},
   "outputs": [
    {
     "name": "stderr",
     "output_type": "stream",
     "text": [
      "c:\\Users\\soham\\Desktop\\LangChain\\RAG Pipeline\\soham\\Lib\\site-packages\\tqdm\\auto.py:21: TqdmWarning: IProgress not found. Please update jupyter and ipywidgets. See https://ipywidgets.readthedocs.io/en/stable/user_install.html\n",
      "  from .autonotebook import tqdm as notebook_tqdm\n"
     ]
    }
   ],
   "source": [
    "import os\n",
    "import google.generativeai as genai\n",
    "import re\n",
    "from pypdf import PdfReader"
   ]
  },
  {
   "cell_type": "markdown",
   "metadata": {},
   "source": [
    "Load Pdf Function"
   ]
  },
  {
   "cell_type": "code",
   "execution_count": 4,
   "metadata": {},
   "outputs": [],
   "source": [
    "def load_pdf(file_path):\n",
    "    \"\"\"\n",
    "    Reads the text content from a PDF file and returns it as a single string.\n",
    "\n",
    "    Parameters:\n",
    "    - file_path (str): The file path to the PDF file.\n",
    "\n",
    "    Returns:\n",
    "    - str: The concatenated text content of all pages in the PDF.\n",
    "    \"\"\"\n",
    "    reader = PdfReader(file_path)\n",
    "\n",
    "    # Loop over each page and store it in a variable\n",
    "    text = \"\"\n",
    "    for page in reader.pages:\n",
    "        text += page.extract_text()\n",
    "\n",
    "    return text\n"
   ]
  },
  {
   "cell_type": "markdown",
   "metadata": {},
   "source": [
    "Load PDFs from Directory Function"
   ]
  },
  {
   "cell_type": "code",
   "execution_count": 5,
   "metadata": {},
   "outputs": [],
   "source": [
    "def load_pdfs_from_directory(directory_path):\n",
    "    \"\"\"\n",
    "    Reads all PDF files from a directory and concatenates their text content.\n",
    "\n",
    "    Parameters:\n",
    "    - directory_path (str): The path to the directory containing PDF files.\n",
    "\n",
    "    Returns:\n",
    "    - str: The concatenated text content of all PDFs in the directory.\n",
    "    \"\"\"\n",
    "    combined_text = \"\"\n",
    "    \n",
    "    # Loop over each file in the directory\n",
    "    for filename in os.listdir(directory_path):\n",
    "        if filename.endswith(\".pdf\"):\n",
    "            file_path = os.path.join(directory_path, filename)\n",
    "            combined_text += load_pdf(file_path)\n",
    "    \n",
    "    return combined_text\n"
   ]
  },
  {
   "cell_type": "markdown",
   "metadata": {},
   "source": [
    "Split Text Function"
   ]
  },
  {
   "cell_type": "code",
   "execution_count": 6,
   "metadata": {},
   "outputs": [],
   "source": [
    "def split_text(text: str):\n",
    "    \"\"\"\n",
    "    Splits a text string into a list of non-empty substrings based on the specified pattern.\n",
    "    The \"\\n \\n\" pattern will split the document para by para\n",
    "\n",
    "    Parameters:\n",
    "    - text (str): The input text to be split.\n",
    "\n",
    "    Returns:\n",
    "    - List[str]: A list containing non-empty substrings obtained by splitting the input text.\n",
    "    \"\"\"\n",
    "    split_text = re.split(r'\\n\\s*\\n', text)\n",
    "    return [i for i in split_text if i.strip() != \"\"]\n"
   ]
  },
  {
   "cell_type": "markdown",
   "metadata": {},
   "source": [
    "Load and Process PDFs"
   ]
  },
  {
   "cell_type": "code",
   "execution_count": 7,
   "metadata": {},
   "outputs": [],
   "source": [
    "# Replace the path with your directory path\n",
    "directory_path = r\"data\"\n",
    "all_pdfs_text = load_pdfs_from_directory(directory_path)\n",
    "chunked_text = split_text(text=all_pdfs_text)\n"
   ]
  },
  {
   "cell_type": "markdown",
   "metadata": {},
   "source": [
    "Verify the Chunks"
   ]
  },
  {
   "cell_type": "code",
   "execution_count": 8,
   "metadata": {},
   "outputs": [
    {
     "name": "stdout",
     "output_type": "stream",
     "text": [
      "Chunk 1:\n",
      "Piyush Malviya\n",
      "Web Developer\n",
      "About Me\n",
      "Professional Experience\n",
      "Projects\"As a dedicated Computer Engineering student, I am\n",
      "passionate about leveraging technology to solve\n",
      "complex problems. Proficient in programming\n",
      "languages such as C,Java,JavaScript. My coursework\n",
      "has equipped me with knowledge in Data Structures,\n",
      "Operating Systems, DBMS, Analysis of Algorithm etc\n",
      "and I am adept at collaborating in team environments.\n",
      "Hard Skill\n",
      "Java\n",
      " C\n",
      " Data Structures\n",
      "  MERN Stack\n",
      " Web development\n",
      " Artificial Intelligence, Deep learning\n",
      "Soft Skill\n",
      "Communication\n",
      "Time Management\n",
      "Leadership\n",
      "Adaptability\n",
      "Education BackgroundMy Contact\n",
      "malviyapiyush744@gmail.com\n",
      "Mumbai.India 9004530891\n",
      "http://www.linkedin.com/in/piyush-\n",
      "malviya-9a819724a\n",
      "Snappy — Real time chat application \"Developed a real-time\n",
      "chat application using React for the front end, Node.js and\n",
      "Express for the server, Socket.io for real-time communication,\n",
      "and MongoDB for data storage. The application is responsive\n",
      "and styled using Styled Components, providing an engaging\n",
      "and seamless user experience. Implemented key features for\n",
      "instant messaging, user registration, and data persistence,\n",
      "showcasing proficiency in full-stack development and real-\n",
      "time technologies.\".PNT Robotics, Mumbai — Web Developer Intern Feb 2023 - Aug\n",
      "2023 Worked as a Web developer Intern at PNT Robotics,\n",
      "contributed to the design and coding part of web application for\n",
      "their upcoming project PNT Academy. Collaborating with\n",
      "experienced web developers to create user-friendly interfaces\n",
      "using MERN stack.\n",
      "VESIT, Mumbai— Bachelor’s in Computer\n",
      "Engineering MONTH 2021 - present CGPA\n",
      "- 9.51/10, till Sem V \n",
      "IDUBS Jr. College, Mumbai — HSC(12th\n",
      "std) MONTH 2019 - MONTH 2021 Scored\n",
      "86% in HSC in Science stream.Participated in Syrus Hackathon held at Vivekanand\n",
      "education society of Information Technology.\n",
      " Got Selected for ‘BuzzPro’ a Technical Paper contest    \n",
      "held at VESIT\n",
      ". Completed Full Stack Development course of udemy\n",
      "taught by Angela Yu. Completed Artificial Intelligence\n",
      "course of Pantech Solutions taught by Sanjay Kumar. Certifications/Awards \n",
      "Languages\n",
      "English\n",
      " Hindi\n",
      " Marathi(BasicSmart Board using Hand Gesture — Computer Vision project The \"Smart Board\n",
      "using Hand Gesture\" project is a fusion of computer vision and web development\n",
      "technologies, aimed at providing an interactive and intuitive platform for\n",
      "controlling a virtual smart board using hand gestures. Leveraging the power of\n",
      "Computer Vision and the MERN stack (MongoDB, Express.js, React.js, Node.js), this\n",
      "project seamlessly integrates a user-friendly web interface with gesture\n",
      "recognition capabilities.Utilizing Computer Vision techniques through a Python-\n",
      "based model connected to the web application via Flask.Key features include\n",
      "hand gesture-based controls for drawing, erasing, and selecting. Soham  Kelaskar\n",
      "sohamkelaskar03@gmail.com +91-9156854149 Mumbai, India \n",
      "LinkedIn \n",
      "May 5, 2024\n",
      "Dear Sir/Madam\n",
      "I am writing to express my enthusiastic interest in the Trust Lab Internship program at IIT\n",
      "Bombay. As a 4th-year computer engineering student, I am excited about the opportunity to\n",
      "collaborate with esteemed faculty mentors and contribute to cutting-edge projects in Digital\n",
      "Trust.\n",
      "The Trust Lab Internship presents a unique opportunity for me to apply my technical\n",
      "knowledge in a practical setting. I am eager to engage in hands-on projects that will not only\n",
      "enhance my skills but also allow me to make meaningful contributions to the field.\n",
      "I understand the importance of hands-on experience, which is why I am particularly eager to\n",
      "participate in the Trust Lab Internship. While I have developed strong skills through my\n",
      "academic background and personal projects, I believe that practical experience is crucial for\n",
      "further enhancing these skills and gaining a deeper understanding of the field. I am confident\n",
      "that the internship at IIT Bombay will provide me with the practical exposure necessary to\n",
      "excel in my future endeavors.\n",
      "Moreover, my genuine interest in the Trust Lab Internship program stems from its reputation\n",
      "for fostering innovation and pushing boundaries in the field of Digital Trust. I am inspired by\n",
      "the opportunity to work on projects that have the potential to make a real-world impact and\n",
      "contribute to the advancement of technology in the area of trust and security.\n",
      "Thank you for considering my application. I am eager to contribute to the Trust Lab's mission\n",
      "and further my academic and professional development through the IITB Internship program.\n",
      "Please find my resume attached for your review. I am available at your earliest convenience for\n",
      "an interview and can be reached at [Your Phone Number] or [Your Email Address].\n",
      "Thank you for your time and consideration.\n",
      "Sincerely,\n",
      "Soham KelaskarDear\n",
      "Sir/Madam\n",
      "I\n",
      "am\n",
      "writing\n",
      "to\n",
      "express\n",
      "my\n",
      "enthusiastic\n",
      "interest\n",
      "in\n",
      "the\n",
      "Trust\n",
      "Lab\n",
      "Internship\n",
      "program,\n",
      "as\n",
      "advertised.\n",
      "As\n",
      "a\n",
      "student\n",
      "deeply\n",
      "passionate\n",
      "about\n",
      "digital\n",
      "trust\n",
      "and\n",
      "its\n",
      "implications,\n",
      "I\n",
      "am\n",
      "excited\n",
      "about\n",
      "the\n",
      "opportunity\n",
      "to\n",
      "contribute\n",
      "to\n",
      "cutting-edge\n",
      "projects\n",
      "and\n",
      "collaborate\n",
      "with\n",
      "esteemed\n",
      "faculty\n",
      "mentors.\n",
      "What\n",
      "particularly\n",
      "excites\n",
      "me\n",
      "about\n",
      "the\n",
      "Trust\n",
      "Lab\n",
      "Internship\n",
      "is\n",
      "the\n",
      "focus\n",
      "on\n",
      "practical\n",
      "experience\n",
      "and\n",
      "collaboration.\n",
      "I\n",
      "believe\n",
      "that\n",
      "the\n",
      "hands-on\n",
      "approach\n",
      "offered\n",
      "by\n",
      "this\n",
      "program\n",
      "will\n",
      "not\n",
      "only\n",
      "enhance\n",
      "my\n",
      "understanding\n",
      "of\n",
      "digital\n",
      "trust\n",
      "but\n",
      "also\n",
      "allow\n",
      "me\n",
      "to\n",
      "contribute\n",
      "meaningfully\n",
      "to\n",
      "ongoing\n",
      "projects.\n",
      "Furthermore,\n",
      "the\n",
      "opportunity\n",
      "to\n",
      "work\n",
      "closely\n",
      "with\n",
      "faculty\n",
      "mentors\n",
      "is\n",
      "invaluable.\n",
      "I\n",
      "am\n",
      "eager\n",
      "to\n",
      "learn\n",
      "from\n",
      "their\n",
      "expertise\n",
      "and\n",
      "gain\n",
      "insights\n",
      "that\n",
      "will\n",
      "shape\n",
      "my\n",
      "future\n",
      "academic\n",
      "and\n",
      "professional\n",
      "endeavours.\n",
      "Additionally,\n",
      "the\n",
      "requirement\n",
      "for\n",
      "onsite\n",
      "participation\n",
      "aligns\n",
      "with\n",
      "my\n",
      "belief\n",
      "that\n",
      "face-to-face\n",
      "interactions\n",
      "foster\n",
      "deeper\n",
      "learning\n",
      "and\n",
      "collaboration.\n",
      "In\n",
      "conclusion,\n",
      "I\n",
      "am\n",
      "confident\n",
      "that\n",
      "the\n",
      "Trust\n",
      "Lab\n",
      "Internship\n",
      "program\n",
      "will\n",
      "provide\n",
      "me\n",
      "with\n",
      "the\n",
      "necessary\n",
      "skills,\n",
      "knowledge,\n",
      "and\n",
      "experiences\n",
      "to\n",
      "further\n",
      "my\n",
      "academic\n",
      "and\n",
      "professional\n",
      "goals.\n",
      "I\n",
      "am\n",
      "eager\n",
      "to\n",
      "contribute\n",
      "to\n",
      "the\n",
      "program\n",
      "and\n",
      "am\n",
      "excited\n",
      "about\n",
      "the\n",
      "prospect\n",
      "of\n",
      "being\n",
      "part\n",
      "of\n",
      "this\n",
      "dynamic\n",
      "and\n",
      "innovative\n",
      "community.\n",
      "Thank\n",
      "you\n",
      "for\n",
      "considering\n",
      "my\n",
      "application.\n",
      "I\n",
      "look\n",
      "forward\n",
      "to\n",
      "the\n",
      "possibility\n",
      "of\n",
      "contributing\n",
      "to\n",
      "the\n",
      "Trust\n",
      "Lab\n",
      "Internship\n",
      "program\n",
      "and\n",
      "am\n",
      "excited\n",
      "about\n",
      "the\n",
      "opportunity\n",
      "to\n",
      "learn\n",
      "and\n",
      "grow\n",
      "alongside\n",
      "esteemed\n",
      "faculty\n",
      "and\n",
      "fellow\n",
      "interns.\n",
      "Sincerely,\n",
      "Soham\n",
      "Kelaskar\n",
      "--------------------------------------------------\n",
      "\n"
     ]
    }
   ],
   "source": [
    "# Print chunked text for verification (optional)\n",
    "for i, chunk in enumerate(chunked_text):\n",
    "    print(f\"Chunk {i+1}:\\n{chunk}\\n{'-'*50}\\n\")"
   ]
  },
  {
   "cell_type": "code",
   "execution_count": 9,
   "metadata": {},
   "outputs": [],
   "source": [
    "class GeminiEmbeddingFunction:\n",
    "    \"\"\"\n",
    "    Custom embedding function using the Gemini AI API for document retrieval.\n",
    "\n",
    "    This class uses a list to store documents and directly passes it to the API.\n",
    "    \"\"\"\n",
    "    def __call__(self, input: list) -> list:\n",
    "        gemini_api_key = os.getenv(\"GEMINI_API_KEY\")\n",
    "        if not gemini_api_key:\n",
    "            raise ValueError(\"Gemini API Key not provided. Please provide GEMINI_API_KEY as an environment variable\")\n",
    "        genai.configure(api_key=gemini_api_key)\n",
    "        model = \"models/embedding-001\"\n",
    "        title = \"Custom query\"\n",
    "        response = genai.embed_content(model=model,\n",
    "                                       content=input,  # Pass documents directly\n",
    "                                       task_type=\"retrieval_document\",\n",
    "                                       title=title)\n",
    "        return response[\"embedding\"]\n"
   ]
  },
  {
   "cell_type": "code",
   "execution_count": 10,
   "metadata": {},
   "outputs": [
    {
     "name": "stdout",
     "output_type": "stream",
     "text": [
      "[[0.023856727, -0.07120652, -0.022611776, -0.04398759, 0.060492326, 0.0073271706, 0.017052762, -0.00013126034, 0.016264765, 0.02745753, -0.008973525, 0.037594035, -0.052452285, -0.011599275, 0.012249292, -0.040934615, -0.032409064, -0.012297112, 0.0053334176, -0.009393403, 0.035250947, -0.019576162, 0.01453795, -0.0357358, 0.01931854, -0.0077099097, -0.008313586, -0.029181631, -0.05460287, 0.06586123, -0.029698078, 0.044256885, -0.046699967, 0.01033952, -0.013325517, -0.044093862, -0.040156946, 0.052303, -0.010392453, 0.04251214, 0.02462576, -0.020578634, -0.029886896, -0.0099197235, -0.015694449, -0.021038488, -0.023698919, 0.017678924, 0.02874683, -0.039521933, 0.025878336, 0.012548636, 0.016351493, -0.018169269, 0.04341597, 0.05271816, 0.04631879, 0.0014580679, 0.032588996, 0.010418512, 0.02306712, 0.010210882, -0.01773213, 0.052713856, -0.017365012, -0.039551467, -0.060051773, 0.03140145, 0.010923344, -0.009293717, -0.013929951, -0.014081405, 0.10500787, -0.06947021, -0.08266426, -0.14182475, 0.011131453, 0.08653613, -0.0032600951, 0.0055349125, -0.04000114, -0.06368658, -0.051488545, -0.01938593, -0.0057567623, 0.04460764, 0.010482234, -0.017535057, 0.009848581, 0.029342532, -0.0070284796, 0.020868095, -0.0076474473, -0.06104431, -0.012408368, 0.07420816, -0.0090007465, -0.09054174, -0.040093414, -0.029566655, -0.038766313, -0.007478492, -0.06607908, 0.012534684, 0.017355286, 0.034660283, 0.024445966, 0.029860694, -0.02774277, 0.031505994, -0.012619351, 0.010983746, 0.004063048, -0.06168367, 0.044080812, 0.0066836905, 0.03211269, 0.07774233, 0.031212358, 0.0027220207, 0.049388286, 0.026555728, 0.05708303, 0.03708343, -0.03829117, -0.0058651646, -0.01148256, 0.032438155, 0.008350026, -0.01656768, 0.042325333, -0.027712984, 0.030077629, -0.0058437316, 0.0067965565, 0.016027652, 0.100319006, -0.016817767, 0.036623046, 0.012798238, -0.03836936, 0.005006261, 0.002227853, 0.029526427, -0.0077239075, 0.050178465, 0.009692947, 0.013503162, 0.023466153, -0.02150359, -0.009252321, -0.04157066, -0.028840158, -0.0014461689, 0.10471556, -0.010405084, 0.01703045, 0.03668831, 0.003468166, 0.047134243, 0.022078667, 0.0061622635, 0.027645532, -0.02249487, -0.0731802, -0.06738875, -0.027355893, -0.020254882, 0.004440446, 0.05016905, -0.0150871845, 0.0504084, -0.05887487, -0.056703307, 0.06437032, -0.03426205, 0.028475713, -0.017335776, 0.017117565, 0.04517374, -0.052450716, 0.010142733, 0.0021514774, 0.010275469, 0.046385575, -0.023718124, 0.059452042, -0.045121264, -0.052230783, -0.005362583, 0.032487895, 0.0067446106, -0.02239469, -0.006622486, -0.024997683, 0.018582504, 0.07363175, 0.018464439, 0.018963633, -0.0005059372, 0.003702127, 0.124164455, 0.009545331, 0.03735258, 0.03427672, -0.007104492, 0.058243737, -0.026357919, -0.036512855, 0.03902967, -0.07410933, 0.0117716715, -0.04301767, 0.020999974, 0.016523024, -0.014619266, 0.0017233434, 0.043609153, 0.0047907806, -0.028662596, 0.03857673, -0.0062854686, -0.015793946, 0.022131296, 0.0023372702, -0.010239028, -0.0005395008, 0.03358068, 0.026759243, -0.049404074, -0.04325396, 0.06134804, 0.036921162, -0.034014016, 0.07431288, 0.027004538, 0.023512268, 0.023512198, 0.06339977, 0.03361017, 0.007912705, -0.008437241, 0.06700719, -0.019536495, -0.04469352, -0.0015175528, -0.029653251, 0.04412667, 0.025393402, 0.018505909, -0.004697338, -0.04996384, -0.021225186, -0.00053735013, -0.06398095, 0.038920585, 0.016036686, -0.034796514, 0.03510659, -0.06834498, 0.07576612, 0.009399615, -0.027866988, -0.013207855, 0.023282724, -0.0065906877, -0.016618993, -0.030657956, 0.014468416, 0.018857041, 0.053692337, -0.031184627, 0.045258805, 0.0020234655, -0.010273927, 0.018088195, 0.0063154167, -0.004091566, 0.06130447, -0.0119987, 0.026849782, -0.0073182085, 0.0060964865, -0.046880577, -0.01630323, -0.011557213, 0.018208172, -0.06532706, -0.005975949, -0.058230158, -0.051011328, 0.042789746, 0.018825201, -0.03362746, -0.003491033, 0.010920589, -0.017336402, 0.039842743, 0.05056906, -0.037086267, 0.00048530655, -0.043602083, 0.00021935598, -0.02355901, -0.005745925, -0.038825687, -0.02801671, -0.03706714, -0.0026406718, 0.0024739755, 0.010983411, -0.0077673476, -0.027717747, 0.034470055, 0.034085125, 0.047446318, 0.004252018, 0.038822316, -0.036692668, 0.02173772, -0.0487587, 0.015784895, 0.026082015, -0.017322296, 0.0009270575, 0.05544381, -0.019390196, 0.019080002, -0.021716211, 0.025229795, -0.002698778, 0.010754665, -0.023222247, -0.030671602, 0.018673608, 0.0014464306, -0.041957956, 0.0091683045, 0.00047068702, -0.026791815, -0.0040473565, 0.030738184, -0.023876317, -0.0837147, -0.047613177, 0.0014190967, -0.020909324, 0.0326517, 0.055669945, 0.0068575656, 0.009066944, 0.08824466, -0.04362719, -0.014244, 0.014917407, -0.066501, 0.06613527, 0.0127257025, 0.04342275, -0.084520735, -0.033803847, 0.0016848062, -0.022645928, -0.018060954, -8.955876e-05, -0.01617031, -0.012087917, 0.01868328, -0.009904322, 0.009479769, 0.0648583, -0.033896364, 0.01291117, -0.008490997, 0.036610276, -0.054149732, -0.053333145, -0.03861499, -0.0063568633, 0.008227613, 0.0026921749, -0.022416513, 0.05026464, 0.03228196, -0.0015623076, -0.05949013, 0.050612863, 0.058759473, -0.057027586, -0.02291635, 0.007891789, 0.0017076322, 0.040977374, -0.0027178251, -0.037460845, -0.00822544, 0.008945933, -0.029685035, -0.010326257, -0.019798962, 0.0008520304, -0.010937827, -0.032218803, -0.034288857, -0.029750744, -0.014321646, -0.009482253, -0.033319138, 0.029293662, -0.022894822, 0.033844497, 0.021160407, 0.0462769, -0.054371312, -0.05039629, -0.008550901, 0.024582366, -0.008877359, -0.04938808, -0.011825713, -0.008769809, -0.015298869, -0.0014954961, -0.041063014, -0.054182258, -0.025173713, 0.043205988, 0.0016729519, -0.0003866733, -0.004484173, 0.04577033, 0.0013600576, -0.024454342, -0.011649242, 0.0031926348, -0.03613588, 0.029677227, 0.0033195964, -0.025355123, -0.062970735, 0.010387158, -0.022837704, 0.0034127464, 0.018052205, -0.07714303, -0.05677807, -0.046305843, -0.007820502, 0.05150747, -0.084226154, 0.015451428, -0.05851008, -0.03733995, -0.079786144, -0.040747046, -0.0140451165, -0.028630115, 0.052025042, -0.010229592, 0.0058039892, -0.022941872, -0.0044050175, 0.021192862, -0.0882881, 0.0018457685, -0.05347507, 0.060030356, 0.0022010023, 0.029587865, 0.055851772, 0.051339746, -0.0390965, 0.02823499, 0.010304028, -0.03671219, -0.013523562, -0.025284724, 0.017562231, -0.046771336, -0.004331802, -0.03128856, -0.027343467, -0.01907683, 0.0015875796, -0.016498249, 0.009640789, -0.01016042, 0.06052037, -0.008153716, 0.032710157, 0.043895636, 0.0073347962, -0.03727291, -0.04832928, 0.0069658277, 0.036441155, 0.0128979385, 0.020189833, 0.054529767, -0.0050367853, -0.038065385, -0.033105403, -0.052962493, -0.036355123, 0.08800341, -0.04376195, 0.008895225, 0.05512595, -0.06617967, -0.022692498, -0.029053658, 0.008116405, 0.032083914, 0.0043627634, 0.038681056, 0.03152517, 0.0018260783, 0.012810821, 0.04310926, -0.01884611, 0.0827274, -0.03576999, -0.0641699, -0.042929016, 0.01703125, -0.11042582, 0.044968687, 0.04579393, -0.03837888, -0.006723551, 4.0837233e-05, 0.039013207, -0.031044995, 0.026819983, -0.029081356, 0.0018240302, -0.023308033, -0.037136555, -0.0067809517, -0.011851863, 0.07497975, -0.025167275, 0.009479433, -0.017100608, 0.0024933177, -0.012517548, -0.0008879773, -0.09471393, 0.04902891, -0.04785446, -0.011043368, 0.0021061443, 0.06448177, -0.065933205, -0.003296923, 0.020442965, -0.010337961, -0.016001927, 0.033774424, -0.00861176, -0.022391275, -0.015960746, 0.00670911, 0.013653338, 0.0810939, -0.0034932413, -0.015047813, 0.009221898, 0.053354062, -0.06902468, 0.029233856, -0.0051474865, 0.029399244, -0.03146964, 0.045544546, -0.06340633, -0.060219042, 0.0064829127, -0.027245566, 0.057721738, 0.051860247, 0.012722164, 0.0058260476, 0.030508406, -0.018897712, -0.008380636, 0.021477459, 0.02354583, -0.006765922, 0.010468276, -0.018916024, 0.0042993454, 0.0203815, -0.020479536, 0.009914884, 0.012226274, 0.03737494, 0.012841382, -0.0020778212, 0.01951052, -0.008717271, -0.006444847, 0.07243912, -0.010282798, 0.019983523, 0.030233277, 0.0041174483, 0.02759452, 0.031589452, 0.04454687, -0.0046043377, 0.013547144, 0.055650875, -0.030753657, -0.0061085937, -0.04237144, 0.052977502, 0.019620573, 0.013170248, -0.069923475, 0.021823373, -0.024610814, 0.0069552436, 0.008648919, 0.04658505, -0.033625543, -0.012098707, -0.030347781, 0.079334505, 0.041532233, 0.027823009, 0.063076295, 0.033610236, -0.014133733, -0.0062453374, 0.005863494, -0.031723723, 0.002439131, 0.012114835, -0.0063365563, -0.08081985, -0.0022603234, 0.029280262, -0.01174259, -0.013755075, 0.028525505, -0.0016028922, -0.11600302, -0.025042383, -0.0021070228, -0.004987967, 0.030858178, 0.02211905, -0.020290282, 0.00069149083, 0.05742821, -0.053935487, 0.008626139, 0.059400454, -0.018726047, -0.07558885, 0.026581137, -0.018153876, -0.019617943, 0.0139028905, -0.07446043, -0.011565793, -0.062674515, -0.03224288, 0.0076498394, -0.009181513, 0.05058112, 0.07325609, -0.0039655957, 0.051339444, 0.029166112, -0.013604126, 0.022581587, 0.028640568, 0.019597527, -0.028244697, -0.026415305, -0.010826056, -0.007996182, -0.0011093068, -0.0120781455, 0.04830152, -8.376653e-05, -0.008292314, -0.015699426, -0.0067852098, -0.016542254, 0.006627994, 0.04574709, 0.029493725, 0.003768765, 0.017178837, -0.033684567, 0.03749825, 0.058353897, -0.025428582, 0.016127208, -0.0033477836, 0.0013325196, 0.0067445226, -0.005098822, -0.010916712, 0.013103447, 0.06491997, 0.07360304, 0.038003713, -0.05463801, -0.018412422, 0.046138976, 0.029309519, -0.017083768, -0.006490882, -0.010452065, -0.016898248, 0.028634757, 0.039084677, 0.013660181, 0.05514829, 0.0071818787, -0.026116567, 0.030105105, -0.011625935, 0.01483571, -0.041507132, -0.032340795, 0.03429111, -0.047295168, 0.010192118, 0.05563451, -0.03146004, 0.05210216, -0.026880115, 0.0016037571, -0.0028081627, -0.047344964, -0.005767756, -0.00392159, 0.013017231, 0.046321735, 0.030489512, -0.07341577, 0.017826227, -0.047888607, -0.023587408, -0.053707078, -0.015270912, -0.012169317, 0.013713264, 0.031175584, 0.057074465, -0.0507803, 0.047152434, -0.006460821, 0.016654648, 0.0039188373, -0.042621646, -0.024805801, 0.0013261675, 0.0055510877, -0.009971026, 0.018419785, -0.06799058, 0.06618082]]\n"
     ]
    }
   ],
   "source": [
    "# Example usage (assuming you have your documents in a list named `chunked_text`)\n",
    "embedding_function = GeminiEmbeddingFunction()\n",
    "embeddings = embedding_function(chunked_text)\n",
    "# The `embeddings` dictionary will contain the generated embedding information\n",
    "\n",
    "print(embeddings)"
   ]
  },
  {
   "cell_type": "code",
   "execution_count": 11,
   "metadata": {},
   "outputs": [
    {
     "name": "stdout",
     "output_type": "stream",
     "text": [
      "Requirement already satisfied: chromadb in c:\\users\\soham\\desktop\\langchain\\rag pipeline\\soham\\lib\\site-packages (0.5.0)\n",
      "Requirement already satisfied: build>=1.0.3 in c:\\users\\soham\\desktop\\langchain\\rag pipeline\\soham\\lib\\site-packages (from chromadb) (1.2.1)\n",
      "Requirement already satisfied: requests>=2.28 in c:\\users\\soham\\desktop\\langchain\\rag pipeline\\soham\\lib\\site-packages (from chromadb) (2.31.0)\n",
      "Requirement already satisfied: pydantic>=1.9 in c:\\users\\soham\\desktop\\langchain\\rag pipeline\\soham\\lib\\site-packages (from chromadb) (2.7.1)\n",
      "Requirement already satisfied: chroma-hnswlib==0.7.3 in c:\\users\\soham\\desktop\\langchain\\rag pipeline\\soham\\lib\\site-packages (from chromadb) (0.7.3)\n",
      "Requirement already satisfied: fastapi>=0.95.2 in c:\\users\\soham\\desktop\\langchain\\rag pipeline\\soham\\lib\\site-packages (from chromadb) (0.111.0)\n",
      "Requirement already satisfied: uvicorn>=0.18.3 in c:\\users\\soham\\desktop\\langchain\\rag pipeline\\soham\\lib\\site-packages (from uvicorn[standard]>=0.18.3->chromadb) (0.29.0)\n",
      "Requirement already satisfied: numpy>=1.22.5 in c:\\users\\soham\\desktop\\langchain\\rag pipeline\\soham\\lib\\site-packages (from chromadb) (1.26.4)\n",
      "Requirement already satisfied: posthog>=2.4.0 in c:\\users\\soham\\desktop\\langchain\\rag pipeline\\soham\\lib\\site-packages (from chromadb) (3.5.0)\n",
      "Requirement already satisfied: typing-extensions>=4.5.0 in c:\\users\\soham\\desktop\\langchain\\rag pipeline\\soham\\lib\\site-packages (from chromadb) (4.11.0)\n",
      "Requirement already satisfied: onnxruntime>=1.14.1 in c:\\users\\soham\\desktop\\langchain\\rag pipeline\\soham\\lib\\site-packages (from chromadb) (1.18.0)\n",
      "Requirement already satisfied: opentelemetry-api>=1.2.0 in c:\\users\\soham\\desktop\\langchain\\rag pipeline\\soham\\lib\\site-packages (from chromadb) (1.24.0)\n",
      "Requirement already satisfied: opentelemetry-exporter-otlp-proto-grpc>=1.2.0 in c:\\users\\soham\\desktop\\langchain\\rag pipeline\\soham\\lib\\site-packages (from chromadb) (1.24.0)\n",
      "Requirement already satisfied: opentelemetry-instrumentation-fastapi>=0.41b0 in c:\\users\\soham\\desktop\\langchain\\rag pipeline\\soham\\lib\\site-packages (from chromadb) (0.45b0)\n",
      "Requirement already satisfied: opentelemetry-sdk>=1.2.0 in c:\\users\\soham\\desktop\\langchain\\rag pipeline\\soham\\lib\\site-packages (from chromadb) (1.24.0)\n",
      "Requirement already satisfied: tokenizers>=0.13.2 in c:\\users\\soham\\desktop\\langchain\\rag pipeline\\soham\\lib\\site-packages (from chromadb) (0.19.1)\n",
      "Requirement already satisfied: pypika>=0.48.9 in c:\\users\\soham\\desktop\\langchain\\rag pipeline\\soham\\lib\\site-packages (from chromadb) (0.48.9)\n",
      "Requirement already satisfied: tqdm>=4.65.0 in c:\\users\\soham\\desktop\\langchain\\rag pipeline\\soham\\lib\\site-packages (from chromadb) (4.66.4)\n",
      "Requirement already satisfied: overrides>=7.3.1 in c:\\users\\soham\\desktop\\langchain\\rag pipeline\\soham\\lib\\site-packages (from chromadb) (7.7.0)\n",
      "Requirement already satisfied: importlib-resources in c:\\users\\soham\\desktop\\langchain\\rag pipeline\\soham\\lib\\site-packages (from chromadb) (6.4.0)\n",
      "Requirement already satisfied: grpcio>=1.58.0 in c:\\users\\soham\\desktop\\langchain\\rag pipeline\\soham\\lib\\site-packages (from chromadb) (1.64.0)\n",
      "Requirement already satisfied: bcrypt>=4.0.1 in c:\\users\\soham\\desktop\\langchain\\rag pipeline\\soham\\lib\\site-packages (from chromadb) (4.1.3)\n",
      "Requirement already satisfied: typer>=0.9.0 in c:\\users\\soham\\desktop\\langchain\\rag pipeline\\soham\\lib\\site-packages (from chromadb) (0.12.3)\n",
      "Requirement already satisfied: kubernetes>=28.1.0 in c:\\users\\soham\\desktop\\langchain\\rag pipeline\\soham\\lib\\site-packages (from chromadb) (29.0.0)\n",
      "Requirement already satisfied: tenacity>=8.2.3 in c:\\users\\soham\\desktop\\langchain\\rag pipeline\\soham\\lib\\site-packages (from chromadb) (8.3.0)\n",
      "Requirement already satisfied: PyYAML>=6.0.0 in c:\\users\\soham\\desktop\\langchain\\rag pipeline\\soham\\lib\\site-packages (from chromadb) (6.0.1)\n",
      "Requirement already satisfied: mmh3>=4.0.1 in c:\\users\\soham\\desktop\\langchain\\rag pipeline\\soham\\lib\\site-packages (from chromadb) (4.1.0)\n",
      "Requirement already satisfied: orjson>=3.9.12 in c:\\users\\soham\\desktop\\langchain\\rag pipeline\\soham\\lib\\site-packages (from chromadb) (3.10.3)\n",
      "Requirement already satisfied: packaging>=19.1 in c:\\users\\soham\\desktop\\langchain\\rag pipeline\\soham\\lib\\site-packages (from build>=1.0.3->chromadb) (23.2)\n",
      "Requirement already satisfied: pyproject_hooks in c:\\users\\soham\\desktop\\langchain\\rag pipeline\\soham\\lib\\site-packages (from build>=1.0.3->chromadb) (1.1.0)\n",
      "Requirement already satisfied: colorama in c:\\users\\soham\\desktop\\langchain\\rag pipeline\\soham\\lib\\site-packages (from build>=1.0.3->chromadb) (0.4.6)\n",
      "Requirement already satisfied: starlette<0.38.0,>=0.37.2 in c:\\users\\soham\\desktop\\langchain\\rag pipeline\\soham\\lib\\site-packages (from fastapi>=0.95.2->chromadb) (0.37.2)\n",
      "Requirement already satisfied: fastapi-cli>=0.0.2 in c:\\users\\soham\\desktop\\langchain\\rag pipeline\\soham\\lib\\site-packages (from fastapi>=0.95.2->chromadb) (0.0.4)\n",
      "Requirement already satisfied: httpx>=0.23.0 in c:\\users\\soham\\desktop\\langchain\\rag pipeline\\soham\\lib\\site-packages (from fastapi>=0.95.2->chromadb) (0.27.0)\n",
      "Requirement already satisfied: jinja2>=2.11.2 in c:\\users\\soham\\desktop\\langchain\\rag pipeline\\soham\\lib\\site-packages (from fastapi>=0.95.2->chromadb) (3.1.4)\n",
      "Requirement already satisfied: python-multipart>=0.0.7 in c:\\users\\soham\\desktop\\langchain\\rag pipeline\\soham\\lib\\site-packages (from fastapi>=0.95.2->chromadb) (0.0.9)\n",
      "Requirement already satisfied: ujson!=4.0.2,!=4.1.0,!=4.2.0,!=4.3.0,!=5.0.0,!=5.1.0,>=4.0.1 in c:\\users\\soham\\desktop\\langchain\\rag pipeline\\soham\\lib\\site-packages (from fastapi>=0.95.2->chromadb) (5.10.0)\n",
      "Requirement already satisfied: email_validator>=2.0.0 in c:\\users\\soham\\desktop\\langchain\\rag pipeline\\soham\\lib\\site-packages (from fastapi>=0.95.2->chromadb) (2.1.1)\n",
      "Requirement already satisfied: certifi>=14.05.14 in c:\\users\\soham\\desktop\\langchain\\rag pipeline\\soham\\lib\\site-packages (from kubernetes>=28.1.0->chromadb) (2024.2.2)\n",
      "Requirement already satisfied: six>=1.9.0 in c:\\users\\soham\\desktop\\langchain\\rag pipeline\\soham\\lib\\site-packages (from kubernetes>=28.1.0->chromadb) (1.16.0)\n",
      "Requirement already satisfied: python-dateutil>=2.5.3 in c:\\users\\soham\\desktop\\langchain\\rag pipeline\\soham\\lib\\site-packages (from kubernetes>=28.1.0->chromadb) (2.9.0.post0)\n",
      "Requirement already satisfied: google-auth>=1.0.1 in c:\\users\\soham\\desktop\\langchain\\rag pipeline\\soham\\lib\\site-packages (from kubernetes>=28.1.0->chromadb) (2.29.0)\n",
      "Requirement already satisfied: websocket-client!=0.40.0,!=0.41.*,!=0.42.*,>=0.32.0 in c:\\users\\soham\\desktop\\langchain\\rag pipeline\\soham\\lib\\site-packages (from kubernetes>=28.1.0->chromadb) (1.8.0)\n",
      "Requirement already satisfied: requests-oauthlib in c:\\users\\soham\\desktop\\langchain\\rag pipeline\\soham\\lib\\site-packages (from kubernetes>=28.1.0->chromadb) (2.0.0)\n",
      "Requirement already satisfied: oauthlib>=3.2.2 in c:\\users\\soham\\desktop\\langchain\\rag pipeline\\soham\\lib\\site-packages (from kubernetes>=28.1.0->chromadb) (3.2.2)\n",
      "Requirement already satisfied: urllib3>=1.24.2 in c:\\users\\soham\\desktop\\langchain\\rag pipeline\\soham\\lib\\site-packages (from kubernetes>=28.1.0->chromadb) (2.2.1)\n",
      "Requirement already satisfied: coloredlogs in c:\\users\\soham\\desktop\\langchain\\rag pipeline\\soham\\lib\\site-packages (from onnxruntime>=1.14.1->chromadb) (15.0.1)\n",
      "Requirement already satisfied: flatbuffers in c:\\users\\soham\\desktop\\langchain\\rag pipeline\\soham\\lib\\site-packages (from onnxruntime>=1.14.1->chromadb) (24.3.25)\n",
      "Requirement already satisfied: protobuf in c:\\users\\soham\\desktop\\langchain\\rag pipeline\\soham\\lib\\site-packages (from onnxruntime>=1.14.1->chromadb) (4.25.3)\n",
      "Requirement already satisfied: sympy in c:\\users\\soham\\desktop\\langchain\\rag pipeline\\soham\\lib\\site-packages (from onnxruntime>=1.14.1->chromadb) (1.12)\n",
      "Requirement already satisfied: deprecated>=1.2.6 in c:\\users\\soham\\desktop\\langchain\\rag pipeline\\soham\\lib\\site-packages (from opentelemetry-api>=1.2.0->chromadb) (1.2.14)\n",
      "Requirement already satisfied: importlib-metadata<=7.0,>=6.0 in c:\\users\\soham\\desktop\\langchain\\rag pipeline\\soham\\lib\\site-packages (from opentelemetry-api>=1.2.0->chromadb) (7.0.0)\n",
      "Requirement already satisfied: googleapis-common-protos~=1.52 in c:\\users\\soham\\desktop\\langchain\\rag pipeline\\soham\\lib\\site-packages (from opentelemetry-exporter-otlp-proto-grpc>=1.2.0->chromadb) (1.63.0)\n",
      "Requirement already satisfied: opentelemetry-exporter-otlp-proto-common==1.24.0 in c:\\users\\soham\\desktop\\langchain\\rag pipeline\\soham\\lib\\site-packages (from opentelemetry-exporter-otlp-proto-grpc>=1.2.0->chromadb) (1.24.0)\n",
      "Requirement already satisfied: opentelemetry-proto==1.24.0 in c:\\users\\soham\\desktop\\langchain\\rag pipeline\\soham\\lib\\site-packages (from opentelemetry-exporter-otlp-proto-grpc>=1.2.0->chromadb) (1.24.0)\n",
      "Requirement already satisfied: opentelemetry-instrumentation-asgi==0.45b0 in c:\\users\\soham\\desktop\\langchain\\rag pipeline\\soham\\lib\\site-packages (from opentelemetry-instrumentation-fastapi>=0.41b0->chromadb) (0.45b0)\n",
      "Requirement already satisfied: opentelemetry-instrumentation==0.45b0 in c:\\users\\soham\\desktop\\langchain\\rag pipeline\\soham\\lib\\site-packages (from opentelemetry-instrumentation-fastapi>=0.41b0->chromadb) (0.45b0)\n",
      "Requirement already satisfied: opentelemetry-semantic-conventions==0.45b0 in c:\\users\\soham\\desktop\\langchain\\rag pipeline\\soham\\lib\\site-packages (from opentelemetry-instrumentation-fastapi>=0.41b0->chromadb) (0.45b0)\n",
      "Requirement already satisfied: opentelemetry-util-http==0.45b0 in c:\\users\\soham\\desktop\\langchain\\rag pipeline\\soham\\lib\\site-packages (from opentelemetry-instrumentation-fastapi>=0.41b0->chromadb) (0.45b0)\n",
      "Requirement already satisfied: setuptools>=16.0 in c:\\users\\soham\\desktop\\langchain\\rag pipeline\\soham\\lib\\site-packages (from opentelemetry-instrumentation==0.45b0->opentelemetry-instrumentation-fastapi>=0.41b0->chromadb) (69.5.1)\n",
      "Requirement already satisfied: wrapt<2.0.0,>=1.0.0 in c:\\users\\soham\\desktop\\langchain\\rag pipeline\\soham\\lib\\site-packages (from opentelemetry-instrumentation==0.45b0->opentelemetry-instrumentation-fastapi>=0.41b0->chromadb) (1.16.0)\n",
      "Requirement already satisfied: asgiref~=3.0 in c:\\users\\soham\\desktop\\langchain\\rag pipeline\\soham\\lib\\site-packages (from opentelemetry-instrumentation-asgi==0.45b0->opentelemetry-instrumentation-fastapi>=0.41b0->chromadb) (3.8.1)\n",
      "Requirement already satisfied: monotonic>=1.5 in c:\\users\\soham\\desktop\\langchain\\rag pipeline\\soham\\lib\\site-packages (from posthog>=2.4.0->chromadb) (1.6)\n",
      "Requirement already satisfied: backoff>=1.10.0 in c:\\users\\soham\\desktop\\langchain\\rag pipeline\\soham\\lib\\site-packages (from posthog>=2.4.0->chromadb) (2.2.1)\n",
      "Requirement already satisfied: annotated-types>=0.4.0 in c:\\users\\soham\\desktop\\langchain\\rag pipeline\\soham\\lib\\site-packages (from pydantic>=1.9->chromadb) (0.6.0)\n",
      "Requirement already satisfied: pydantic-core==2.18.2 in c:\\users\\soham\\desktop\\langchain\\rag pipeline\\soham\\lib\\site-packages (from pydantic>=1.9->chromadb) (2.18.2)\n",
      "Requirement already satisfied: charset-normalizer<4,>=2 in c:\\users\\soham\\desktop\\langchain\\rag pipeline\\soham\\lib\\site-packages (from requests>=2.28->chromadb) (3.3.2)\n",
      "Requirement already satisfied: idna<4,>=2.5 in c:\\users\\soham\\desktop\\langchain\\rag pipeline\\soham\\lib\\site-packages (from requests>=2.28->chromadb) (3.7)\n",
      "Requirement already satisfied: huggingface-hub<1.0,>=0.16.4 in c:\\users\\soham\\desktop\\langchain\\rag pipeline\\soham\\lib\\site-packages (from tokenizers>=0.13.2->chromadb) (0.23.0)\n",
      "Requirement already satisfied: click>=8.0.0 in c:\\users\\soham\\desktop\\langchain\\rag pipeline\\soham\\lib\\site-packages (from typer>=0.9.0->chromadb) (8.1.7)\n",
      "Requirement already satisfied: shellingham>=1.3.0 in c:\\users\\soham\\desktop\\langchain\\rag pipeline\\soham\\lib\\site-packages (from typer>=0.9.0->chromadb) (1.5.4)\n",
      "Requirement already satisfied: rich>=10.11.0 in c:\\users\\soham\\desktop\\langchain\\rag pipeline\\soham\\lib\\site-packages (from typer>=0.9.0->chromadb) (13.7.1)\n",
      "Requirement already satisfied: h11>=0.8 in c:\\users\\soham\\desktop\\langchain\\rag pipeline\\soham\\lib\\site-packages (from uvicorn>=0.18.3->uvicorn[standard]>=0.18.3->chromadb) (0.14.0)\n",
      "Requirement already satisfied: httptools>=0.5.0 in c:\\users\\soham\\desktop\\langchain\\rag pipeline\\soham\\lib\\site-packages (from uvicorn[standard]>=0.18.3->chromadb) (0.6.1)\n",
      "Requirement already satisfied: python-dotenv>=0.13 in c:\\users\\soham\\desktop\\langchain\\rag pipeline\\soham\\lib\\site-packages (from uvicorn[standard]>=0.18.3->chromadb) (1.0.1)\n",
      "Requirement already satisfied: watchfiles>=0.13 in c:\\users\\soham\\desktop\\langchain\\rag pipeline\\soham\\lib\\site-packages (from uvicorn[standard]>=0.18.3->chromadb) (0.21.0)\n",
      "Requirement already satisfied: websockets>=10.4 in c:\\users\\soham\\desktop\\langchain\\rag pipeline\\soham\\lib\\site-packages (from uvicorn[standard]>=0.18.3->chromadb) (12.0)\n",
      "Requirement already satisfied: dnspython>=2.0.0 in c:\\users\\soham\\desktop\\langchain\\rag pipeline\\soham\\lib\\site-packages (from email_validator>=2.0.0->fastapi>=0.95.2->chromadb) (2.6.1)\n",
      "Requirement already satisfied: cachetools<6.0,>=2.0.0 in c:\\users\\soham\\desktop\\langchain\\rag pipeline\\soham\\lib\\site-packages (from google-auth>=1.0.1->kubernetes>=28.1.0->chromadb) (5.3.3)\n",
      "Requirement already satisfied: pyasn1-modules>=0.2.1 in c:\\users\\soham\\desktop\\langchain\\rag pipeline\\soham\\lib\\site-packages (from google-auth>=1.0.1->kubernetes>=28.1.0->chromadb) (0.4.0)\n",
      "Requirement already satisfied: rsa<5,>=3.1.4 in c:\\users\\soham\\desktop\\langchain\\rag pipeline\\soham\\lib\\site-packages (from google-auth>=1.0.1->kubernetes>=28.1.0->chromadb) (4.9)\n",
      "Requirement already satisfied: anyio in c:\\users\\soham\\desktop\\langchain\\rag pipeline\\soham\\lib\\site-packages (from httpx>=0.23.0->fastapi>=0.95.2->chromadb) (4.3.0)\n",
      "Requirement already satisfied: httpcore==1.* in c:\\users\\soham\\desktop\\langchain\\rag pipeline\\soham\\lib\\site-packages (from httpx>=0.23.0->fastapi>=0.95.2->chromadb) (1.0.5)\n",
      "Requirement already satisfied: sniffio in c:\\users\\soham\\desktop\\langchain\\rag pipeline\\soham\\lib\\site-packages (from httpx>=0.23.0->fastapi>=0.95.2->chromadb) (1.3.1)\n",
      "Requirement already satisfied: filelock in c:\\users\\soham\\desktop\\langchain\\rag pipeline\\soham\\lib\\site-packages (from huggingface-hub<1.0,>=0.16.4->tokenizers>=0.13.2->chromadb) (3.14.0)\n",
      "Requirement already satisfied: fsspec>=2023.5.0 in c:\\users\\soham\\desktop\\langchain\\rag pipeline\\soham\\lib\\site-packages (from huggingface-hub<1.0,>=0.16.4->tokenizers>=0.13.2->chromadb) (2024.5.0)\n",
      "Requirement already satisfied: zipp>=0.5 in c:\\users\\soham\\desktop\\langchain\\rag pipeline\\soham\\lib\\site-packages (from importlib-metadata<=7.0,>=6.0->opentelemetry-api>=1.2.0->chromadb) (3.18.2)\n",
      "Requirement already satisfied: MarkupSafe>=2.0 in c:\\users\\soham\\desktop\\langchain\\rag pipeline\\soham\\lib\\site-packages (from jinja2>=2.11.2->fastapi>=0.95.2->chromadb) (2.1.5)\n",
      "Requirement already satisfied: markdown-it-py>=2.2.0 in c:\\users\\soham\\desktop\\langchain\\rag pipeline\\soham\\lib\\site-packages (from rich>=10.11.0->typer>=0.9.0->chromadb) (3.0.0)\n",
      "Requirement already satisfied: pygments<3.0.0,>=2.13.0 in c:\\users\\soham\\desktop\\langchain\\rag pipeline\\soham\\lib\\site-packages (from rich>=10.11.0->typer>=0.9.0->chromadb) (2.18.0)\n",
      "Requirement already satisfied: humanfriendly>=9.1 in c:\\users\\soham\\desktop\\langchain\\rag pipeline\\soham\\lib\\site-packages (from coloredlogs->onnxruntime>=1.14.1->chromadb) (10.0)\n",
      "Requirement already satisfied: mpmath>=0.19 in c:\\users\\soham\\desktop\\langchain\\rag pipeline\\soham\\lib\\site-packages (from sympy->onnxruntime>=1.14.1->chromadb) (1.3.0)\n",
      "Requirement already satisfied: pyreadline3 in c:\\users\\soham\\desktop\\langchain\\rag pipeline\\soham\\lib\\site-packages (from humanfriendly>=9.1->coloredlogs->onnxruntime>=1.14.1->chromadb) (3.4.1)\n",
      "Requirement already satisfied: mdurl~=0.1 in c:\\users\\soham\\desktop\\langchain\\rag pipeline\\soham\\lib\\site-packages (from markdown-it-py>=2.2.0->rich>=10.11.0->typer>=0.9.0->chromadb) (0.1.2)\n",
      "Requirement already satisfied: pyasn1<0.7.0,>=0.4.6 in c:\\users\\soham\\desktop\\langchain\\rag pipeline\\soham\\lib\\site-packages (from pyasn1-modules>=0.2.1->google-auth>=1.0.1->kubernetes>=28.1.0->chromadb) (0.6.0)\n",
      "Note: you may need to restart the kernel to use updated packages.\n"
     ]
    }
   ],
   "source": [
    "%pip install chromadb"
   ]
  },
  {
   "cell_type": "code",
   "execution_count": 22,
   "metadata": {},
   "outputs": [],
   "source": [
    "from typing import List\n",
    "import chromadb"
   ]
  },
  {
   "cell_type": "code",
   "execution_count": 23,
   "metadata": {},
   "outputs": [],
   "source": [
    "def create_chroma_db(documents: List, path: str, name: str):\n",
    "    \"\"\"\n",
    "    Creates a Chroma database using the provided documents, path, and collection name.\n",
    "\n",
    "    Parameters:\n",
    "    - documents: An iterable of documents to be added to the Chroma database.\n",
    "    - path (str): The path where the Chroma database will be stored.\n",
    "    - name (str): The name of the collection within the Chroma database.\n",
    "\n",
    "    Returns:\n",
    "    - Tuple[chromadb.Collection, str]: A tuple containing the created Chroma Collection and its name.\n",
    "    \"\"\"\n",
    "    chroma_client = chromadb.PersistentClient(path=path)\n",
    "    db = chroma_client.create_collection(name=name, embedding_function=GeminiEmbeddingFunction())\n",
    "\n",
    "    for i, d in enumerate(documents):\n",
    "        db.add(documents=[d], ids=[str(i)])  # Adjusted to match expected input format\n",
    "\n",
    "    return db, name\n"
   ]
  },
  {
   "cell_type": "code",
   "execution_count": 25,
   "metadata": {},
   "outputs": [],
   "source": [
    "db, name = create_chroma_db(documents=chunked_text, \n",
    "                            path=\"contents\",  # Replace with your path\n",
    "                            name=\"Dimple1\")\n"
   ]
  },
  {
   "cell_type": "code",
   "execution_count": 27,
   "metadata": {},
   "outputs": [],
   "source": [
    "def load_chroma_collection(path, name):\n",
    "    \"\"\"\n",
    "    Loads an existing Chroma collection from the specified path with the given name.\n",
    "\n",
    "    Parameters:\n",
    "    - path (str): The path where the Chroma database is stored.\n",
    "    - name (str): The name of the collection within the Chroma database.\n",
    "\n",
    "    Returns:\n",
    "    - chromadb.Collection: The loaded Chroma Collection.\n",
    "    \"\"\"\n",
    "    chroma_client = chromadb.PersistentClient(path=path)\n",
    "    db = chroma_client.get_collection(name=name, embedding_function=GeminiEmbeddingFunction())\n",
    "\n",
    "    return db\n",
    "\n",
    "db=load_chroma_collection(path=\"contents\", name=\"Dimple1\")"
   ]
  },
  {
   "cell_type": "code",
   "execution_count": 28,
   "metadata": {},
   "outputs": [],
   "source": [
    "def get_relevant_passage(query, db, n_results):\n",
    "    passage = db.query(query_texts=[query], n_results=n_results)['documents'][0]\n",
    "    return passage\n"
   ]
  },
  {
   "cell_type": "code",
   "execution_count": 29,
   "metadata": {},
   "outputs": [
    {
     "name": "stderr",
     "output_type": "stream",
     "text": [
      "Number of requested results 3 is greater than number of elements in index 1, updating n_results = 1\n"
     ]
    },
    {
     "name": "stdout",
     "output_type": "stream",
     "text": [
      "['Piyush Malviya\\nWeb Developer\\nAbout Me\\nProfessional Experience\\nProjects\"As a dedicated Computer Engineering student, I am\\npassionate about leveraging technology to solve\\ncomplex problems. Proficient in programming\\nlanguages such as C,Java,JavaScript. My coursework\\nhas equipped me with knowledge in Data Structures,\\nOperating Systems, DBMS, Analysis of Algorithm etc\\nand I am adept at collaborating in team environments.\\nHard Skill\\nJava\\n C\\n Data Structures\\n  MERN Stack\\n Web development\\n Artificial Intelligence, Deep learning\\nSoft Skill\\nCommunication\\nTime Management\\nLeadership\\nAdaptability\\nEducation BackgroundMy Contact\\nmalviyapiyush744@gmail.com\\nMumbai.India 9004530891\\nhttp://www.linkedin.com/in/piyush-\\nmalviya-9a819724a\\nSnappy — Real time chat application \"Developed a real-time\\nchat application using React for the front end, Node.js and\\nExpress for the server, Socket.io for real-time communication,\\nand MongoDB for data storage. The application is responsive\\nand styled using Styled Components, providing an engaging\\nand seamless user experience. Implemented key features for\\ninstant messaging, user registration, and data persistence,\\nshowcasing proficiency in full-stack development and real-\\ntime technologies.\".PNT Robotics, Mumbai — Web Developer Intern Feb 2023 - Aug\\n2023 Worked as a Web developer Intern at PNT Robotics,\\ncontributed to the design and coding part of web application for\\ntheir upcoming project PNT Academy. Collaborating with\\nexperienced web developers to create user-friendly interfaces\\nusing MERN stack.\\nVESIT, Mumbai— Bachelor’s in Computer\\nEngineering MONTH 2021 - present CGPA\\n- 9.51/10, till Sem V \\nIDUBS Jr. College, Mumbai — HSC(12th\\nstd) MONTH 2019 - MONTH 2021 Scored\\n86% in HSC in Science stream.Participated in Syrus Hackathon held at Vivekanand\\neducation society of Information Technology.\\n Got Selected for ‘BuzzPro’ a Technical Paper contest    \\nheld at VESIT\\n. Completed Full Stack Development course of udemy\\ntaught by Angela Yu. Completed Artificial Intelligence\\ncourse of Pantech Solutions taught by Sanjay Kumar. Certifications/Awards \\nLanguages\\nEnglish\\n Hindi\\n Marathi(BasicSmart Board using Hand Gesture — Computer Vision project The \"Smart Board\\nusing Hand Gesture\" project is a fusion of computer vision and web development\\ntechnologies, aimed at providing an interactive and intuitive platform for\\ncontrolling a virtual smart board using hand gestures. Leveraging the power of\\nComputer Vision and the MERN stack (MongoDB, Express.js, React.js, Node.js), this\\nproject seamlessly integrates a user-friendly web interface with gesture\\nrecognition capabilities.Utilizing Computer Vision techniques through a Python-\\nbased model connected to the web application via Flask.Key features include\\nhand gesture-based controls for drawing, erasing, and selecting. Soham  Kelaskar\\nsohamkelaskar03@gmail.com +91-9156854149 Mumbai, India \\nLinkedIn \\nMay 5, 2024\\nDear Sir/Madam\\nI am writing to express my enthusiastic interest in the Trust Lab Internship program at IIT\\nBombay. As a 4th-year computer engineering student, I am excited about the opportunity to\\ncollaborate with esteemed faculty mentors and contribute to cutting-edge projects in Digital\\nTrust.\\nThe Trust Lab Internship presents a unique opportunity for me to apply my technical\\nknowledge in a practical setting. I am eager to engage in hands-on projects that will not only\\nenhance my skills but also allow me to make meaningful contributions to the field.\\nI understand the importance of hands-on experience, which is why I am particularly eager to\\nparticipate in the Trust Lab Internship. While I have developed strong skills through my\\nacademic background and personal projects, I believe that practical experience is crucial for\\nfurther enhancing these skills and gaining a deeper understanding of the field. I am confident\\nthat the internship at IIT Bombay will provide me with the practical exposure necessary to\\nexcel in my future endeavors.\\nMoreover, my genuine interest in the Trust Lab Internship program stems from its reputation\\nfor fostering innovation and pushing boundaries in the field of Digital Trust. I am inspired by\\nthe opportunity to work on projects that have the potential to make a real-world impact and\\ncontribute to the advancement of technology in the area of trust and security.\\nThank you for considering my application. I am eager to contribute to the Trust Lab\\'s mission\\nand further my academic and professional development through the IITB Internship program.\\nPlease find my resume attached for your review. I am available at your earliest convenience for\\nan interview and can be reached at [Your Phone Number] or [Your Email Address].\\nThank you for your time and consideration.\\nSincerely,\\nSoham KelaskarDear\\nSir/Madam\\nI\\nam\\nwriting\\nto\\nexpress\\nmy\\nenthusiastic\\ninterest\\nin\\nthe\\nTrust\\nLab\\nInternship\\nprogram,\\nas\\nadvertised.\\nAs\\na\\nstudent\\ndeeply\\npassionate\\nabout\\ndigital\\ntrust\\nand\\nits\\nimplications,\\nI\\nam\\nexcited\\nabout\\nthe\\nopportunity\\nto\\ncontribute\\nto\\ncutting-edge\\nprojects\\nand\\ncollaborate\\nwith\\nesteemed\\nfaculty\\nmentors.\\nWhat\\nparticularly\\nexcites\\nme\\nabout\\nthe\\nTrust\\nLab\\nInternship\\nis\\nthe\\nfocus\\non\\npractical\\nexperience\\nand\\ncollaboration.\\nI\\nbelieve\\nthat\\nthe\\nhands-on\\napproach\\noffered\\nby\\nthis\\nprogram\\nwill\\nnot\\nonly\\nenhance\\nmy\\nunderstanding\\nof\\ndigital\\ntrust\\nbut\\nalso\\nallow\\nme\\nto\\ncontribute\\nmeaningfully\\nto\\nongoing\\nprojects.\\nFurthermore,\\nthe\\nopportunity\\nto\\nwork\\nclosely\\nwith\\nfaculty\\nmentors\\nis\\ninvaluable.\\nI\\nam\\neager\\nto\\nlearn\\nfrom\\ntheir\\nexpertise\\nand\\ngain\\ninsights\\nthat\\nwill\\nshape\\nmy\\nfuture\\nacademic\\nand\\nprofessional\\nendeavours.\\nAdditionally,\\nthe\\nrequirement\\nfor\\nonsite\\nparticipation\\naligns\\nwith\\nmy\\nbelief\\nthat\\nface-to-face\\ninteractions\\nfoster\\ndeeper\\nlearning\\nand\\ncollaboration.\\nIn\\nconclusion,\\nI\\nam\\nconfident\\nthat\\nthe\\nTrust\\nLab\\nInternship\\nprogram\\nwill\\nprovide\\nme\\nwith\\nthe\\nnecessary\\nskills,\\nknowledge,\\nand\\nexperiences\\nto\\nfurther\\nmy\\nacademic\\nand\\nprofessional\\ngoals.\\nI\\nam\\neager\\nto\\ncontribute\\nto\\nthe\\nprogram\\nand\\nam\\nexcited\\nabout\\nthe\\nprospect\\nof\\nbeing\\npart\\nof\\nthis\\ndynamic\\nand\\ninnovative\\ncommunity.\\nThank\\nyou\\nfor\\nconsidering\\nmy\\napplication.\\nI\\nlook\\nforward\\nto\\nthe\\npossibility\\nof\\ncontributing\\nto\\nthe\\nTrust\\nLab\\nInternship\\nprogram\\nand\\nam\\nexcited\\nabout\\nthe\\nopportunity\\nto\\nlearn\\nand\\ngrow\\nalongside\\nesteemed\\nfaculty\\nand\\nfellow\\ninterns.\\nSincerely,\\nSoham\\nKelaskar']\n"
     ]
    }
   ],
   "source": [
    "# Assuming you have a database object `db` that you can query\n",
    "relevant_text = get_relevant_passage(query=\"Who is Piyush?\", db=db, n_results=3)\n",
    "print(relevant_text)\n"
   ]
  },
  {
   "cell_type": "code",
   "execution_count": 35,
   "metadata": {},
   "outputs": [],
   "source": [
    "def make_rag_prompt(query, relevant_passage):\n",
    "  escaped = relevant_passage.replace(\"'\", \"\").replace('\"', \"\").replace(\"\\n\", \" \")\n",
    "  prompt = (\"\"\"You are a helpful and informative bot that answers questions using text from the reference passage included below. \\\n",
    "  Be sure to respond in a complete sentence, being comprehensive, including all relevant background information. \\\n",
    "  However, you are talking to a non-technical audience, so be sure to break down complicated concepts and \\\n",
    "  strike a friendly and converstional tone. \\\n",
    "  If the passage is irrelevant to the answer, you may ignore it.\n",
    "  QUESTION: '{query}'\n",
    "  PASSAGE: '{relevant_passage}'\n",
    "\n",
    "  ANSWER:\n",
    "  \"\"\").format(query=query, relevant_passage=escaped)\n",
    "\n",
    "  return prompt"
   ]
  },
  {
   "cell_type": "code",
   "execution_count": 43,
   "metadata": {},
   "outputs": [],
   "source": [
    "def generate_text_answer(prompt):\n",
    "    gemini_api_key = os.getenv(\"GEMINI_API_KEY\")\n",
    "    if not gemini_api_key:\n",
    "        raise ValueError(\"Gemini API Key not provided. Please provide GEMINI_API_KEY as an environment variable\")\n",
    "    genai.configure(api_key=gemini_api_key)\n",
    "    model = \"models/generative-001\"\n",
    "    response = genai.generate_text(model=model, prompt=prompt)\n",
    "    return response['generated_text']\n"
   ]
  },
  {
   "cell_type": "code",
   "execution_count": 44,
   "metadata": {},
   "outputs": [],
   "source": [
    "def get_answer(db, query):\n",
    "    relevant_text = get_relevant_passage(query, db, n_results=3)\n",
    "    prompt = make_rag_prompt(query, relevant_passage=\"\".join(relevant_text))\n",
    "    answer = generate_text_answer(prompt)\n",
    "    return answer\n"
   ]
  },
  {
   "cell_type": "code",
   "execution_count": 45,
   "metadata": {},
   "outputs": [
    {
     "name": "stderr",
     "output_type": "stream",
     "text": [
      "Number of requested results 3 is greater than number of elements in index 1, updating n_results = 1\n"
     ]
    },
    {
     "ename": "NotFound",
     "evalue": "404 models/generative-001 is not found for API version v1beta, or is not supported for generateText. Call ListModels to see the list of available models and their supported methods.",
     "output_type": "error",
     "traceback": [
      "\u001b[1;31m---------------------------------------------------------------------------\u001b[0m",
      "\u001b[1;31mNotFound\u001b[0m                                  Traceback (most recent call last)",
      "Cell \u001b[1;32mIn[45], line 3\u001b[0m\n\u001b[0;32m      1\u001b[0m db \u001b[38;5;241m=\u001b[39m load_chroma_collection(path\u001b[38;5;241m=\u001b[39m\u001b[38;5;124m\"\u001b[39m\u001b[38;5;124mcontents\u001b[39m\u001b[38;5;124m\"\u001b[39m, name\u001b[38;5;241m=\u001b[39m\u001b[38;5;124m\"\u001b[39m\u001b[38;5;124mDimple1\u001b[39m\u001b[38;5;124m\"\u001b[39m)  \u001b[38;5;66;03m# Replace with your path and collection name\u001b[39;00m\n\u001b[0;32m      2\u001b[0m query \u001b[38;5;241m=\u001b[39m \u001b[38;5;124m\"\u001b[39m\u001b[38;5;124mwhat is the purpose of SOP?\u001b[39m\u001b[38;5;124m\"\u001b[39m\n\u001b[1;32m----> 3\u001b[0m answer \u001b[38;5;241m=\u001b[39m \u001b[43mget_answer\u001b[49m\u001b[43m(\u001b[49m\u001b[43mdb\u001b[49m\u001b[43m,\u001b[49m\u001b[43m \u001b[49m\u001b[43mquery\u001b[49m\u001b[43m)\u001b[49m\n\u001b[0;32m      4\u001b[0m \u001b[38;5;28mprint\u001b[39m(answer)\n",
      "Cell \u001b[1;32mIn[44], line 4\u001b[0m, in \u001b[0;36mget_answer\u001b[1;34m(db, query)\u001b[0m\n\u001b[0;32m      2\u001b[0m relevant_text \u001b[38;5;241m=\u001b[39m get_relevant_passage(query, db, n_results\u001b[38;5;241m=\u001b[39m\u001b[38;5;241m3\u001b[39m)\n\u001b[0;32m      3\u001b[0m prompt \u001b[38;5;241m=\u001b[39m make_rag_prompt(query, relevant_passage\u001b[38;5;241m=\u001b[39m\u001b[38;5;124m\"\u001b[39m\u001b[38;5;124m\"\u001b[39m\u001b[38;5;241m.\u001b[39mjoin(relevant_text))\n\u001b[1;32m----> 4\u001b[0m answer \u001b[38;5;241m=\u001b[39m \u001b[43mgenerate_text_answer\u001b[49m\u001b[43m(\u001b[49m\u001b[43mprompt\u001b[49m\u001b[43m)\u001b[49m\n\u001b[0;32m      5\u001b[0m \u001b[38;5;28;01mreturn\u001b[39;00m answer\n",
      "Cell \u001b[1;32mIn[43], line 7\u001b[0m, in \u001b[0;36mgenerate_text_answer\u001b[1;34m(prompt)\u001b[0m\n\u001b[0;32m      5\u001b[0m genai\u001b[38;5;241m.\u001b[39mconfigure(api_key\u001b[38;5;241m=\u001b[39mgemini_api_key)\n\u001b[0;32m      6\u001b[0m model \u001b[38;5;241m=\u001b[39m \u001b[38;5;124m\"\u001b[39m\u001b[38;5;124mmodels/generative-001\u001b[39m\u001b[38;5;124m\"\u001b[39m\n\u001b[1;32m----> 7\u001b[0m response \u001b[38;5;241m=\u001b[39m \u001b[43mgenai\u001b[49m\u001b[38;5;241;43m.\u001b[39;49m\u001b[43mgenerate_text\u001b[49m\u001b[43m(\u001b[49m\u001b[43mmodel\u001b[49m\u001b[38;5;241;43m=\u001b[39;49m\u001b[43mmodel\u001b[49m\u001b[43m,\u001b[49m\u001b[43m \u001b[49m\u001b[43mprompt\u001b[49m\u001b[38;5;241;43m=\u001b[39;49m\u001b[43mprompt\u001b[49m\u001b[43m)\u001b[49m\n\u001b[0;32m      8\u001b[0m \u001b[38;5;28;01mreturn\u001b[39;00m response[\u001b[38;5;124m'\u001b[39m\u001b[38;5;124mgenerated_text\u001b[39m\u001b[38;5;124m'\u001b[39m]\n",
      "File \u001b[1;32mc:\\Users\\soham\\Desktop\\LangChain\\RAG Pipeline\\soham\\Lib\\site-packages\\google\\generativeai\\text.py:202\u001b[0m, in \u001b[0;36mgenerate_text\u001b[1;34m(model, prompt, temperature, candidate_count, max_output_tokens, top_p, top_k, safety_settings, stop_sequences, client, request_options)\u001b[0m\n\u001b[0;32m    146\u001b[0m \u001b[38;5;250m\u001b[39m\u001b[38;5;124;03m\"\"\"Calls the API and returns a `types.Completion` containing the response.\u001b[39;00m\n\u001b[0;32m    147\u001b[0m \n\u001b[0;32m    148\u001b[0m \u001b[38;5;124;03mArgs:\u001b[39;00m\n\u001b[1;32m   (...)\u001b[0m\n\u001b[0;32m    188\u001b[0m \u001b[38;5;124;03m    A `types.Completion` containing the model's text completion response.\u001b[39;00m\n\u001b[0;32m    189\u001b[0m \u001b[38;5;124;03m\"\"\"\u001b[39;00m\n\u001b[0;32m    190\u001b[0m request \u001b[38;5;241m=\u001b[39m _make_generate_text_request(\n\u001b[0;32m    191\u001b[0m     model\u001b[38;5;241m=\u001b[39mmodel,\n\u001b[0;32m    192\u001b[0m     prompt\u001b[38;5;241m=\u001b[39mprompt,\n\u001b[1;32m   (...)\u001b[0m\n\u001b[0;32m    199\u001b[0m     stop_sequences\u001b[38;5;241m=\u001b[39mstop_sequences,\n\u001b[0;32m    200\u001b[0m )\n\u001b[1;32m--> 202\u001b[0m \u001b[38;5;28;01mreturn\u001b[39;00m \u001b[43m_generate_response\u001b[49m\u001b[43m(\u001b[49m\u001b[43mclient\u001b[49m\u001b[38;5;241;43m=\u001b[39;49m\u001b[43mclient\u001b[49m\u001b[43m,\u001b[49m\u001b[43m \u001b[49m\u001b[43mrequest\u001b[49m\u001b[38;5;241;43m=\u001b[39;49m\u001b[43mrequest\u001b[49m\u001b[43m,\u001b[49m\u001b[43m \u001b[49m\u001b[43mrequest_options\u001b[49m\u001b[38;5;241;43m=\u001b[39;49m\u001b[43mrequest_options\u001b[49m\u001b[43m)\u001b[49m\n",
      "File \u001b[1;32mc:\\Users\\soham\\Desktop\\LangChain\\RAG Pipeline\\soham\\Lib\\site-packages\\google\\generativeai\\text.py:240\u001b[0m, in \u001b[0;36m_generate_response\u001b[1;34m(request, client, request_options)\u001b[0m\n\u001b[0;32m    237\u001b[0m \u001b[38;5;28;01mif\u001b[39;00m client \u001b[38;5;129;01mis\u001b[39;00m \u001b[38;5;28;01mNone\u001b[39;00m:\n\u001b[0;32m    238\u001b[0m     client \u001b[38;5;241m=\u001b[39m get_default_text_client()\n\u001b[1;32m--> 240\u001b[0m response \u001b[38;5;241m=\u001b[39m \u001b[43mclient\u001b[49m\u001b[38;5;241;43m.\u001b[39;49m\u001b[43mgenerate_text\u001b[49m\u001b[43m(\u001b[49m\u001b[43mrequest\u001b[49m\u001b[43m,\u001b[49m\u001b[43m \u001b[49m\u001b[38;5;241;43m*\u001b[39;49m\u001b[38;5;241;43m*\u001b[39;49m\u001b[43mrequest_options\u001b[49m\u001b[43m)\u001b[49m\n\u001b[0;32m    241\u001b[0m response \u001b[38;5;241m=\u001b[39m \u001b[38;5;28mtype\u001b[39m(response)\u001b[38;5;241m.\u001b[39mto_dict(response)\n\u001b[0;32m    243\u001b[0m response[\u001b[38;5;124m\"\u001b[39m\u001b[38;5;124mfilters\u001b[39m\u001b[38;5;124m\"\u001b[39m] \u001b[38;5;241m=\u001b[39m safety_types\u001b[38;5;241m.\u001b[39mconvert_filters_to_enums(response[\u001b[38;5;124m\"\u001b[39m\u001b[38;5;124mfilters\u001b[39m\u001b[38;5;124m\"\u001b[39m])\n",
      "File \u001b[1;32mc:\\Users\\soham\\Desktop\\LangChain\\RAG Pipeline\\soham\\Lib\\site-packages\\google\\ai\\generativelanguage_v1beta\\services\\text_service\\client.py:880\u001b[0m, in \u001b[0;36mTextServiceClient.generate_text\u001b[1;34m(self, request, model, prompt, temperature, candidate_count, max_output_tokens, top_p, top_k, retry, timeout, metadata)\u001b[0m\n\u001b[0;32m    877\u001b[0m \u001b[38;5;28mself\u001b[39m\u001b[38;5;241m.\u001b[39m_validate_universe_domain()\n\u001b[0;32m    879\u001b[0m \u001b[38;5;66;03m# Send the request.\u001b[39;00m\n\u001b[1;32m--> 880\u001b[0m response \u001b[38;5;241m=\u001b[39m \u001b[43mrpc\u001b[49m\u001b[43m(\u001b[49m\n\u001b[0;32m    881\u001b[0m \u001b[43m    \u001b[49m\u001b[43mrequest\u001b[49m\u001b[43m,\u001b[49m\n\u001b[0;32m    882\u001b[0m \u001b[43m    \u001b[49m\u001b[43mretry\u001b[49m\u001b[38;5;241;43m=\u001b[39;49m\u001b[43mretry\u001b[49m\u001b[43m,\u001b[49m\n\u001b[0;32m    883\u001b[0m \u001b[43m    \u001b[49m\u001b[43mtimeout\u001b[49m\u001b[38;5;241;43m=\u001b[39;49m\u001b[43mtimeout\u001b[49m\u001b[43m,\u001b[49m\n\u001b[0;32m    884\u001b[0m \u001b[43m    \u001b[49m\u001b[43mmetadata\u001b[49m\u001b[38;5;241;43m=\u001b[39;49m\u001b[43mmetadata\u001b[49m\u001b[43m,\u001b[49m\n\u001b[0;32m    885\u001b[0m \u001b[43m\u001b[49m\u001b[43m)\u001b[49m\n\u001b[0;32m    887\u001b[0m \u001b[38;5;66;03m# Done; return the response.\u001b[39;00m\n\u001b[0;32m    888\u001b[0m \u001b[38;5;28;01mreturn\u001b[39;00m response\n",
      "File \u001b[1;32mc:\\Users\\soham\\Desktop\\LangChain\\RAG Pipeline\\soham\\Lib\\site-packages\\google\\api_core\\gapic_v1\\method.py:131\u001b[0m, in \u001b[0;36m_GapicCallable.__call__\u001b[1;34m(self, timeout, retry, compression, *args, **kwargs)\u001b[0m\n\u001b[0;32m    128\u001b[0m \u001b[38;5;28;01mif\u001b[39;00m \u001b[38;5;28mself\u001b[39m\u001b[38;5;241m.\u001b[39m_compression \u001b[38;5;129;01mis\u001b[39;00m \u001b[38;5;129;01mnot\u001b[39;00m \u001b[38;5;28;01mNone\u001b[39;00m:\n\u001b[0;32m    129\u001b[0m     kwargs[\u001b[38;5;124m\"\u001b[39m\u001b[38;5;124mcompression\u001b[39m\u001b[38;5;124m\"\u001b[39m] \u001b[38;5;241m=\u001b[39m compression\n\u001b[1;32m--> 131\u001b[0m \u001b[38;5;28;01mreturn\u001b[39;00m \u001b[43mwrapped_func\u001b[49m\u001b[43m(\u001b[49m\u001b[38;5;241;43m*\u001b[39;49m\u001b[43margs\u001b[49m\u001b[43m,\u001b[49m\u001b[43m \u001b[49m\u001b[38;5;241;43m*\u001b[39;49m\u001b[38;5;241;43m*\u001b[39;49m\u001b[43mkwargs\u001b[49m\u001b[43m)\u001b[49m\n",
      "File \u001b[1;32mc:\\Users\\soham\\Desktop\\LangChain\\RAG Pipeline\\soham\\Lib\\site-packages\\google\\api_core\\retry\\retry_unary.py:293\u001b[0m, in \u001b[0;36mRetry.__call__.<locals>.retry_wrapped_func\u001b[1;34m(*args, **kwargs)\u001b[0m\n\u001b[0;32m    289\u001b[0m target \u001b[38;5;241m=\u001b[39m functools\u001b[38;5;241m.\u001b[39mpartial(func, \u001b[38;5;241m*\u001b[39margs, \u001b[38;5;241m*\u001b[39m\u001b[38;5;241m*\u001b[39mkwargs)\n\u001b[0;32m    290\u001b[0m sleep_generator \u001b[38;5;241m=\u001b[39m exponential_sleep_generator(\n\u001b[0;32m    291\u001b[0m     \u001b[38;5;28mself\u001b[39m\u001b[38;5;241m.\u001b[39m_initial, \u001b[38;5;28mself\u001b[39m\u001b[38;5;241m.\u001b[39m_maximum, multiplier\u001b[38;5;241m=\u001b[39m\u001b[38;5;28mself\u001b[39m\u001b[38;5;241m.\u001b[39m_multiplier\n\u001b[0;32m    292\u001b[0m )\n\u001b[1;32m--> 293\u001b[0m \u001b[38;5;28;01mreturn\u001b[39;00m \u001b[43mretry_target\u001b[49m\u001b[43m(\u001b[49m\n\u001b[0;32m    294\u001b[0m \u001b[43m    \u001b[49m\u001b[43mtarget\u001b[49m\u001b[43m,\u001b[49m\n\u001b[0;32m    295\u001b[0m \u001b[43m    \u001b[49m\u001b[38;5;28;43mself\u001b[39;49m\u001b[38;5;241;43m.\u001b[39;49m\u001b[43m_predicate\u001b[49m\u001b[43m,\u001b[49m\n\u001b[0;32m    296\u001b[0m \u001b[43m    \u001b[49m\u001b[43msleep_generator\u001b[49m\u001b[43m,\u001b[49m\n\u001b[0;32m    297\u001b[0m \u001b[43m    \u001b[49m\u001b[43mtimeout\u001b[49m\u001b[38;5;241;43m=\u001b[39;49m\u001b[38;5;28;43mself\u001b[39;49m\u001b[38;5;241;43m.\u001b[39;49m\u001b[43m_timeout\u001b[49m\u001b[43m,\u001b[49m\n\u001b[0;32m    298\u001b[0m \u001b[43m    \u001b[49m\u001b[43mon_error\u001b[49m\u001b[38;5;241;43m=\u001b[39;49m\u001b[43mon_error\u001b[49m\u001b[43m,\u001b[49m\n\u001b[0;32m    299\u001b[0m \u001b[43m\u001b[49m\u001b[43m)\u001b[49m\n",
      "File \u001b[1;32mc:\\Users\\soham\\Desktop\\LangChain\\RAG Pipeline\\soham\\Lib\\site-packages\\google\\api_core\\retry\\retry_unary.py:153\u001b[0m, in \u001b[0;36mretry_target\u001b[1;34m(target, predicate, sleep_generator, timeout, on_error, exception_factory, **kwargs)\u001b[0m\n\u001b[0;32m    149\u001b[0m \u001b[38;5;66;03m# pylint: disable=broad-except\u001b[39;00m\n\u001b[0;32m    150\u001b[0m \u001b[38;5;66;03m# This function explicitly must deal with broad exceptions.\u001b[39;00m\n\u001b[0;32m    151\u001b[0m \u001b[38;5;28;01mexcept\u001b[39;00m \u001b[38;5;167;01mException\u001b[39;00m \u001b[38;5;28;01mas\u001b[39;00m exc:\n\u001b[0;32m    152\u001b[0m     \u001b[38;5;66;03m# defer to shared logic for handling errors\u001b[39;00m\n\u001b[1;32m--> 153\u001b[0m     \u001b[43m_retry_error_helper\u001b[49m\u001b[43m(\u001b[49m\n\u001b[0;32m    154\u001b[0m \u001b[43m        \u001b[49m\u001b[43mexc\u001b[49m\u001b[43m,\u001b[49m\n\u001b[0;32m    155\u001b[0m \u001b[43m        \u001b[49m\u001b[43mdeadline\u001b[49m\u001b[43m,\u001b[49m\n\u001b[0;32m    156\u001b[0m \u001b[43m        \u001b[49m\u001b[43msleep\u001b[49m\u001b[43m,\u001b[49m\n\u001b[0;32m    157\u001b[0m \u001b[43m        \u001b[49m\u001b[43merror_list\u001b[49m\u001b[43m,\u001b[49m\n\u001b[0;32m    158\u001b[0m \u001b[43m        \u001b[49m\u001b[43mpredicate\u001b[49m\u001b[43m,\u001b[49m\n\u001b[0;32m    159\u001b[0m \u001b[43m        \u001b[49m\u001b[43mon_error\u001b[49m\u001b[43m,\u001b[49m\n\u001b[0;32m    160\u001b[0m \u001b[43m        \u001b[49m\u001b[43mexception_factory\u001b[49m\u001b[43m,\u001b[49m\n\u001b[0;32m    161\u001b[0m \u001b[43m        \u001b[49m\u001b[43mtimeout\u001b[49m\u001b[43m,\u001b[49m\n\u001b[0;32m    162\u001b[0m \u001b[43m    \u001b[49m\u001b[43m)\u001b[49m\n\u001b[0;32m    163\u001b[0m     \u001b[38;5;66;03m# if exception not raised, sleep before next attempt\u001b[39;00m\n\u001b[0;32m    164\u001b[0m     time\u001b[38;5;241m.\u001b[39msleep(sleep)\n",
      "File \u001b[1;32mc:\\Users\\soham\\Desktop\\LangChain\\RAG Pipeline\\soham\\Lib\\site-packages\\google\\api_core\\retry\\retry_base.py:212\u001b[0m, in \u001b[0;36m_retry_error_helper\u001b[1;34m(exc, deadline, next_sleep, error_list, predicate_fn, on_error_fn, exc_factory_fn, original_timeout)\u001b[0m\n\u001b[0;32m    206\u001b[0m \u001b[38;5;28;01mif\u001b[39;00m \u001b[38;5;129;01mnot\u001b[39;00m predicate_fn(exc):\n\u001b[0;32m    207\u001b[0m     final_exc, source_exc \u001b[38;5;241m=\u001b[39m exc_factory_fn(\n\u001b[0;32m    208\u001b[0m         error_list,\n\u001b[0;32m    209\u001b[0m         RetryFailureReason\u001b[38;5;241m.\u001b[39mNON_RETRYABLE_ERROR,\n\u001b[0;32m    210\u001b[0m         original_timeout,\n\u001b[0;32m    211\u001b[0m     )\n\u001b[1;32m--> 212\u001b[0m     \u001b[38;5;28;01mraise\u001b[39;00m final_exc \u001b[38;5;28;01mfrom\u001b[39;00m \u001b[38;5;21;01msource_exc\u001b[39;00m\n\u001b[0;32m    213\u001b[0m \u001b[38;5;28;01mif\u001b[39;00m on_error_fn \u001b[38;5;129;01mis\u001b[39;00m \u001b[38;5;129;01mnot\u001b[39;00m \u001b[38;5;28;01mNone\u001b[39;00m:\n\u001b[0;32m    214\u001b[0m     on_error_fn(exc)\n",
      "File \u001b[1;32mc:\\Users\\soham\\Desktop\\LangChain\\RAG Pipeline\\soham\\Lib\\site-packages\\google\\api_core\\retry\\retry_unary.py:144\u001b[0m, in \u001b[0;36mretry_target\u001b[1;34m(target, predicate, sleep_generator, timeout, on_error, exception_factory, **kwargs)\u001b[0m\n\u001b[0;32m    142\u001b[0m \u001b[38;5;28;01mfor\u001b[39;00m sleep \u001b[38;5;129;01min\u001b[39;00m sleep_generator:\n\u001b[0;32m    143\u001b[0m     \u001b[38;5;28;01mtry\u001b[39;00m:\n\u001b[1;32m--> 144\u001b[0m         result \u001b[38;5;241m=\u001b[39m \u001b[43mtarget\u001b[49m\u001b[43m(\u001b[49m\u001b[43m)\u001b[49m\n\u001b[0;32m    145\u001b[0m         \u001b[38;5;28;01mif\u001b[39;00m inspect\u001b[38;5;241m.\u001b[39misawaitable(result):\n\u001b[0;32m    146\u001b[0m             warnings\u001b[38;5;241m.\u001b[39mwarn(_ASYNC_RETRY_WARNING)\n",
      "File \u001b[1;32mc:\\Users\\soham\\Desktop\\LangChain\\RAG Pipeline\\soham\\Lib\\site-packages\\google\\api_core\\timeout.py:120\u001b[0m, in \u001b[0;36mTimeToDeadlineTimeout.__call__.<locals>.func_with_timeout\u001b[1;34m(*args, **kwargs)\u001b[0m\n\u001b[0;32m    117\u001b[0m     \u001b[38;5;66;03m# Avoid setting negative timeout\u001b[39;00m\n\u001b[0;32m    118\u001b[0m     kwargs[\u001b[38;5;124m\"\u001b[39m\u001b[38;5;124mtimeout\u001b[39m\u001b[38;5;124m\"\u001b[39m] \u001b[38;5;241m=\u001b[39m \u001b[38;5;28mmax\u001b[39m(\u001b[38;5;241m0\u001b[39m, \u001b[38;5;28mself\u001b[39m\u001b[38;5;241m.\u001b[39m_timeout \u001b[38;5;241m-\u001b[39m time_since_first_attempt)\n\u001b[1;32m--> 120\u001b[0m \u001b[38;5;28;01mreturn\u001b[39;00m \u001b[43mfunc\u001b[49m\u001b[43m(\u001b[49m\u001b[38;5;241;43m*\u001b[39;49m\u001b[43margs\u001b[49m\u001b[43m,\u001b[49m\u001b[43m \u001b[49m\u001b[38;5;241;43m*\u001b[39;49m\u001b[38;5;241;43m*\u001b[39;49m\u001b[43mkwargs\u001b[49m\u001b[43m)\u001b[49m\n",
      "File \u001b[1;32mc:\\Users\\soham\\Desktop\\LangChain\\RAG Pipeline\\soham\\Lib\\site-packages\\google\\api_core\\grpc_helpers.py:78\u001b[0m, in \u001b[0;36m_wrap_unary_errors.<locals>.error_remapped_callable\u001b[1;34m(*args, **kwargs)\u001b[0m\n\u001b[0;32m     76\u001b[0m     \u001b[38;5;28;01mreturn\u001b[39;00m callable_(\u001b[38;5;241m*\u001b[39margs, \u001b[38;5;241m*\u001b[39m\u001b[38;5;241m*\u001b[39mkwargs)\n\u001b[0;32m     77\u001b[0m \u001b[38;5;28;01mexcept\u001b[39;00m grpc\u001b[38;5;241m.\u001b[39mRpcError \u001b[38;5;28;01mas\u001b[39;00m exc:\n\u001b[1;32m---> 78\u001b[0m     \u001b[38;5;28;01mraise\u001b[39;00m exceptions\u001b[38;5;241m.\u001b[39mfrom_grpc_error(exc) \u001b[38;5;28;01mfrom\u001b[39;00m \u001b[38;5;21;01mexc\u001b[39;00m\n",
      "\u001b[1;31mNotFound\u001b[0m: 404 models/generative-001 is not found for API version v1beta, or is not supported for generateText. Call ListModels to see the list of available models and their supported methods."
     ]
    }
   ],
   "source": [
    "db = load_chroma_collection(path=\"contents\", name=\"Dimple1\")  # Replace with your path and collection name\n",
    "query = \"what is the purpose of SOP?\"\n",
    "answer = get_answer(db, query)\n",
    "print(answer)\n"
   ]
  },
  {
   "cell_type": "code",
   "execution_count": null,
   "metadata": {},
   "outputs": [],
   "source": []
  }
 ],
 "metadata": {
  "kernelspec": {
   "display_name": "Python 3",
   "language": "python",
   "name": "python3"
  },
  "language_info": {
   "codemirror_mode": {
    "name": "ipython",
    "version": 3
   },
   "file_extension": ".py",
   "mimetype": "text/x-python",
   "name": "python",
   "nbconvert_exporter": "python",
   "pygments_lexer": "ipython3",
   "version": "3.12.2"
  }
 },
 "nbformat": 4,
 "nbformat_minor": 2
}
